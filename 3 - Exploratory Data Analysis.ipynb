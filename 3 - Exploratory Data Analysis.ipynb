{
 "cells": [
  {
   "cell_type": "markdown",
   "metadata": {},
   "source": [
    "## Reading the Data\n",
    "\n",
    "First, I need to import my required libraries"
   ]
  },
  {
   "cell_type": "code",
   "execution_count": 1,
   "metadata": {},
   "outputs": [],
   "source": [
    "import numpy as np\n",
    "import pandas as pd\n",
    "import matplotlib.pyplot as plt\n",
    "import seaborn as sns\n",
    "%matplotlib inline"
   ]
  },
  {
   "cell_type": "code",
   "execution_count": 2,
   "metadata": {},
   "outputs": [
    {
     "data": {
      "text/html": [
       "<div>\n",
       "<style scoped>\n",
       "    .dataframe tbody tr th:only-of-type {\n",
       "        vertical-align: middle;\n",
       "    }\n",
       "\n",
       "    .dataframe tbody tr th {\n",
       "        vertical-align: top;\n",
       "    }\n",
       "\n",
       "    .dataframe thead th {\n",
       "        text-align: right;\n",
       "    }\n",
       "</style>\n",
       "<table border=\"1\" class=\"dataframe\">\n",
       "  <thead>\n",
       "    <tr style=\"text-align: right;\">\n",
       "      <th></th>\n",
       "      <th>displayPrice</th>\n",
       "      <th>dateSold</th>\n",
       "      <th>tenure</th>\n",
       "      <th>newBuild</th>\n",
       "      <th>address</th>\n",
       "      <th>propertyType</th>\n",
       "      <th>bedrooms</th>\n",
       "      <th>images</th>\n",
       "      <th>hasFloorPlan</th>\n",
       "      <th>detailUrl</th>\n",
       "      <th>latitude</th>\n",
       "      <th>longitude</th>\n",
       "    </tr>\n",
       "  </thead>\n",
       "  <tbody>\n",
       "    <tr>\n",
       "      <th>0</th>\n",
       "      <td>£720,050</td>\n",
       "      <td>17 Dec 2021</td>\n",
       "      <td>Freehold</td>\n",
       "      <td>False</td>\n",
       "      <td>11, Whitney Road, London, Greater London E10 7HG</td>\n",
       "      <td>Terraced</td>\n",
       "      <td>3.0</td>\n",
       "      <td>https://media.rightmove.co.uk/dir/66k/65394/10...</td>\n",
       "      <td>True</td>\n",
       "      <td>https://www.rightmove.co.uk/house-prices/detai...</td>\n",
       "      <td>51.57167</td>\n",
       "      <td>-0.01677</td>\n",
       "    </tr>\n",
       "    <tr>\n",
       "      <th>1</th>\n",
       "      <td>£445,000</td>\n",
       "      <td>12 Aug 2015</td>\n",
       "      <td>Freehold</td>\n",
       "      <td>False</td>\n",
       "      <td>11, Whitney Road, London, Greater London E10 7HG</td>\n",
       "      <td>Terraced</td>\n",
       "      <td>3.0</td>\n",
       "      <td>https://media.rightmove.co.uk/dir/66k/65394/10...</td>\n",
       "      <td>True</td>\n",
       "      <td>https://www.rightmove.co.uk/house-prices/detai...</td>\n",
       "      <td>51.57167</td>\n",
       "      <td>-0.01677</td>\n",
       "    </tr>\n",
       "    <tr>\n",
       "      <th>2</th>\n",
       "      <td>£643,756</td>\n",
       "      <td>9 Dec 2021</td>\n",
       "      <td>Freehold</td>\n",
       "      <td>False</td>\n",
       "      <td>82, Manor Road, Leyton, London, Greater London...</td>\n",
       "      <td>Terraced</td>\n",
       "      <td>4.0</td>\n",
       "      <td>https://media.rightmove.co.uk/dir/71k/70202/11...</td>\n",
       "      <td>True</td>\n",
       "      <td>https://www.rightmove.co.uk/house-prices/detai...</td>\n",
       "      <td>51.57082</td>\n",
       "      <td>-0.01955</td>\n",
       "    </tr>\n",
       "    <tr>\n",
       "      <th>3</th>\n",
       "      <td>£355,000</td>\n",
       "      <td>7 Sep 2007</td>\n",
       "      <td>Freehold</td>\n",
       "      <td>False</td>\n",
       "      <td>82, Manor Road, Leyton, London, Greater London...</td>\n",
       "      <td>Terraced</td>\n",
       "      <td>4.0</td>\n",
       "      <td>https://media.rightmove.co.uk/dir/71k/70202/11...</td>\n",
       "      <td>True</td>\n",
       "      <td>https://www.rightmove.co.uk/house-prices/detai...</td>\n",
       "      <td>51.57082</td>\n",
       "      <td>-0.01955</td>\n",
       "    </tr>\n",
       "    <tr>\n",
       "      <th>4</th>\n",
       "      <td>£220,000</td>\n",
       "      <td>23 Mar 2006</td>\n",
       "      <td>Freehold</td>\n",
       "      <td>False</td>\n",
       "      <td>82, Manor Road, Leyton, London, Greater London...</td>\n",
       "      <td>Terraced</td>\n",
       "      <td>4.0</td>\n",
       "      <td>https://media.rightmove.co.uk/dir/71k/70202/11...</td>\n",
       "      <td>True</td>\n",
       "      <td>https://www.rightmove.co.uk/house-prices/detai...</td>\n",
       "      <td>51.57082</td>\n",
       "      <td>-0.01955</td>\n",
       "    </tr>\n",
       "  </tbody>\n",
       "</table>\n",
       "</div>"
      ],
      "text/plain": [
       "  displayPrice     dateSold    tenure  newBuild  \\\n",
       "0     £720,050  17 Dec 2021  Freehold     False   \n",
       "1     £445,000  12 Aug 2015  Freehold     False   \n",
       "2     £643,756   9 Dec 2021  Freehold     False   \n",
       "3     £355,000   7 Sep 2007  Freehold     False   \n",
       "4     £220,000  23 Mar 2006  Freehold     False   \n",
       "\n",
       "                                             address propertyType  bedrooms  \\\n",
       "0   11, Whitney Road, London, Greater London E10 7HG     Terraced       3.0   \n",
       "1   11, Whitney Road, London, Greater London E10 7HG     Terraced       3.0   \n",
       "2  82, Manor Road, Leyton, London, Greater London...     Terraced       4.0   \n",
       "3  82, Manor Road, Leyton, London, Greater London...     Terraced       4.0   \n",
       "4  82, Manor Road, Leyton, London, Greater London...     Terraced       4.0   \n",
       "\n",
       "                                              images  hasFloorPlan  \\\n",
       "0  https://media.rightmove.co.uk/dir/66k/65394/10...          True   \n",
       "1  https://media.rightmove.co.uk/dir/66k/65394/10...          True   \n",
       "2  https://media.rightmove.co.uk/dir/71k/70202/11...          True   \n",
       "3  https://media.rightmove.co.uk/dir/71k/70202/11...          True   \n",
       "4  https://media.rightmove.co.uk/dir/71k/70202/11...          True   \n",
       "\n",
       "                                           detailUrl  latitude  longitude  \n",
       "0  https://www.rightmove.co.uk/house-prices/detai...  51.57167   -0.01677  \n",
       "1  https://www.rightmove.co.uk/house-prices/detai...  51.57167   -0.01677  \n",
       "2  https://www.rightmove.co.uk/house-prices/detai...  51.57082   -0.01955  \n",
       "3  https://www.rightmove.co.uk/house-prices/detai...  51.57082   -0.01955  \n",
       "4  https://www.rightmove.co.uk/house-prices/detai...  51.57082   -0.01955  "
      ]
     },
     "execution_count": 2,
     "metadata": {},
     "output_type": "execute_result"
    }
   ],
   "source": [
    "df = pd.read_csv('Property df.csv',index_col=0)\n",
    "df.head()"
   ]
  },
  {
   "cell_type": "code",
   "execution_count": 3,
   "metadata": {},
   "outputs": [
    {
     "name": "stdout",
     "output_type": "stream",
     "text": [
      "<class 'pandas.core.frame.DataFrame'>\n",
      "Int64Index: 2278 entries, 0 to 2277\n",
      "Data columns (total 12 columns):\n",
      " #   Column        Non-Null Count  Dtype  \n",
      "---  ------        --------------  -----  \n",
      " 0   displayPrice  2278 non-null   object \n",
      " 1   dateSold      2278 non-null   object \n",
      " 2   tenure        2278 non-null   object \n",
      " 3   newBuild      2278 non-null   bool   \n",
      " 4   address       2278 non-null   object \n",
      " 5   propertyType  2278 non-null   object \n",
      " 6   bedrooms      1588 non-null   float64\n",
      " 7   images        2278 non-null   object \n",
      " 8   hasFloorPlan  2278 non-null   bool   \n",
      " 9   detailUrl     1588 non-null   object \n",
      " 10  latitude      2278 non-null   float64\n",
      " 11  longitude     2278 non-null   float64\n",
      "dtypes: bool(2), float64(3), object(7)\n",
      "memory usage: 200.2+ KB\n"
     ]
    }
   ],
   "source": [
    "df.info()"
   ]
  },
  {
   "cell_type": "markdown",
   "metadata": {},
   "source": [
    "# Cleaning the Data\n",
    "\n",
    "Data Cleaning involves several steps:\n",
    "- Correcting the data types\n",
    "- Removing unnecesary columns\n",
    "- Handling missing values\n",
    " \n",
    "To make certain columns usable I will need to correct data types and also handle missing values. I will also remove unnecessary columns that are unnecessary in the analysis. But first, I will rename the columns."
   ]
  },
  {
   "cell_type": "code",
   "execution_count": 4,
   "metadata": {},
   "outputs": [],
   "source": [
    "rename_columns = ['Price','Date_Sold','Tenure_Type','New_Build','Address','Property_Type','Num_Bedrooms','Image_URL','Floorplan','URL','Latitude','Longitude']\n",
    "\n",
    "df.columns = rename_columns"
   ]
  },
  {
   "cell_type": "markdown",
   "metadata": {},
   "source": [
    "### Correcting Data Types "
   ]
  },
  {
   "cell_type": "markdown",
   "metadata": {},
   "source": [
    "I need to manipulate 'Price' and convert into an integer by removing the £ sign and comma and converting data type into int"
   ]
  },
  {
   "cell_type": "code",
   "execution_count": 5,
   "metadata": {},
   "outputs": [],
   "source": [
    "df['Price'] = df['Price'].str.replace(',','')\n",
    "df['Price'] = df['Price'].str.replace('£','')\n",
    "df['Price'] = df['Price'].astype(int)"
   ]
  },
  {
   "cell_type": "code",
   "execution_count": 6,
   "metadata": {},
   "outputs": [
    {
     "data": {
      "text/plain": [
       "numpy.int64"
      ]
     },
     "execution_count": 6,
     "metadata": {},
     "output_type": "execute_result"
    }
   ],
   "source": [
    "type(df['Price'][0])"
   ]
  },
  {
   "cell_type": "markdown",
   "metadata": {},
   "source": [
    "I want to now seperate 'Address' to two variables that are more useful to me: 'Post_Code' & 'Road_Name'"
   ]
  },
  {
   "cell_type": "code",
   "execution_count": 7,
   "metadata": {},
   "outputs": [],
   "source": [
    "df['Post_Code'] = df['Address'].apply(lambda x: x[-7:])\n",
    "df['Road_Name'] = df['Address'].apply(lambda x: x.split(',')[1])"
   ]
  },
  {
   "cell_type": "markdown",
   "metadata": {},
   "source": [
    "After looking at the data more closely, I identified that some of the 'Road_Name' were incorrectly populated, where the the flat number will be used instead of the road name. Looking at it more closely, I can adjust the road name by utilising the fact that the incorrect road name has a short string length."
   ]
  },
  {
   "cell_type": "code",
   "execution_count": 8,
   "metadata": {},
   "outputs": [
    {
     "data": {
      "text/html": [
       "<div>\n",
       "<style scoped>\n",
       "    .dataframe tbody tr th:only-of-type {\n",
       "        vertical-align: middle;\n",
       "    }\n",
       "\n",
       "    .dataframe tbody tr th {\n",
       "        vertical-align: top;\n",
       "    }\n",
       "\n",
       "    .dataframe thead th {\n",
       "        text-align: right;\n",
       "    }\n",
       "</style>\n",
       "<table border=\"1\" class=\"dataframe\">\n",
       "  <thead>\n",
       "    <tr style=\"text-align: right;\">\n",
       "      <th></th>\n",
       "      <th>Price</th>\n",
       "      <th>Date_Sold</th>\n",
       "      <th>Tenure_Type</th>\n",
       "      <th>New_Build</th>\n",
       "      <th>Address</th>\n",
       "      <th>Property_Type</th>\n",
       "      <th>Num_Bedrooms</th>\n",
       "      <th>Image_URL</th>\n",
       "      <th>Floorplan</th>\n",
       "      <th>URL</th>\n",
       "      <th>Latitude</th>\n",
       "      <th>Longitude</th>\n",
       "      <th>Post_Code</th>\n",
       "      <th>Road_Name</th>\n",
       "    </tr>\n",
       "  </thead>\n",
       "  <tbody>\n",
       "    <tr>\n",
       "      <th>76</th>\n",
       "      <td>352000</td>\n",
       "      <td>27 Sep 2021</td>\n",
       "      <td>Leasehold</td>\n",
       "      <td>False</td>\n",
       "      <td>Flat B, 311, Church Road, Leyton, London, Grea...</td>\n",
       "      <td>Flat</td>\n",
       "      <td>NaN</td>\n",
       "      <td>/spw/images/placeholder/no-image.svg</td>\n",
       "      <td>False</td>\n",
       "      <td>NaN</td>\n",
       "      <td>51.56918</td>\n",
       "      <td>-0.02366</td>\n",
       "      <td>E10 7JG</td>\n",
       "      <td>311</td>\n",
       "    </tr>\n",
       "    <tr>\n",
       "      <th>77</th>\n",
       "      <td>305000</td>\n",
       "      <td>1 Jun 2017</td>\n",
       "      <td>Leasehold</td>\n",
       "      <td>False</td>\n",
       "      <td>Flat B, 311, Church Road, Leyton, London, Grea...</td>\n",
       "      <td>Flat</td>\n",
       "      <td>NaN</td>\n",
       "      <td>/spw/images/placeholder/no-image.svg</td>\n",
       "      <td>False</td>\n",
       "      <td>NaN</td>\n",
       "      <td>51.56918</td>\n",
       "      <td>-0.02366</td>\n",
       "      <td>E10 7JG</td>\n",
       "      <td>311</td>\n",
       "    </tr>\n",
       "    <tr>\n",
       "      <th>87</th>\n",
       "      <td>220100</td>\n",
       "      <td>3 Sep 2021</td>\n",
       "      <td>Leasehold</td>\n",
       "      <td>False</td>\n",
       "      <td>Flat 19, Chessington Mansions, 14, Albany Road...</td>\n",
       "      <td>Flat</td>\n",
       "      <td>NaN</td>\n",
       "      <td>/spw/images/placeholder/no-image.svg</td>\n",
       "      <td>False</td>\n",
       "      <td>NaN</td>\n",
       "      <td>51.57287</td>\n",
       "      <td>-0.01845</td>\n",
       "      <td>E10 7EW</td>\n",
       "      <td>Chessington Mansions</td>\n",
       "    </tr>\n",
       "    <tr>\n",
       "      <th>88</th>\n",
       "      <td>205000</td>\n",
       "      <td>29 Oct 2019</td>\n",
       "      <td>Leasehold</td>\n",
       "      <td>False</td>\n",
       "      <td>Flat 19, Chessington Mansions, 14, Albany Road...</td>\n",
       "      <td>Flat</td>\n",
       "      <td>NaN</td>\n",
       "      <td>/spw/images/placeholder/no-image.svg</td>\n",
       "      <td>False</td>\n",
       "      <td>NaN</td>\n",
       "      <td>51.57287</td>\n",
       "      <td>-0.01845</td>\n",
       "      <td>E10 7EW</td>\n",
       "      <td>Chessington Mansions</td>\n",
       "    </tr>\n",
       "    <tr>\n",
       "      <th>89</th>\n",
       "      <td>130000</td>\n",
       "      <td>27 Feb 2014</td>\n",
       "      <td>Leasehold</td>\n",
       "      <td>False</td>\n",
       "      <td>Flat 19, Chessington Mansions, 14, Albany Road...</td>\n",
       "      <td>Flat</td>\n",
       "      <td>NaN</td>\n",
       "      <td>/spw/images/placeholder/no-image.svg</td>\n",
       "      <td>False</td>\n",
       "      <td>NaN</td>\n",
       "      <td>51.57287</td>\n",
       "      <td>-0.01845</td>\n",
       "      <td>E10 7EW</td>\n",
       "      <td>Chessington Mansions</td>\n",
       "    </tr>\n",
       "    <tr>\n",
       "      <th>...</th>\n",
       "      <td>...</td>\n",
       "      <td>...</td>\n",
       "      <td>...</td>\n",
       "      <td>...</td>\n",
       "      <td>...</td>\n",
       "      <td>...</td>\n",
       "      <td>...</td>\n",
       "      <td>...</td>\n",
       "      <td>...</td>\n",
       "      <td>...</td>\n",
       "      <td>...</td>\n",
       "      <td>...</td>\n",
       "      <td>...</td>\n",
       "      <td>...</td>\n",
       "    </tr>\n",
       "    <tr>\n",
       "      <th>2225</th>\n",
       "      <td>257000</td>\n",
       "      <td>16 Sep 2015</td>\n",
       "      <td>Leasehold</td>\n",
       "      <td>False</td>\n",
       "      <td>Flat 12, Salway House, 25, Thornhill Road, Lon...</td>\n",
       "      <td>Flat</td>\n",
       "      <td>NaN</td>\n",
       "      <td>/spw/images/placeholder/no-image.svg</td>\n",
       "      <td>False</td>\n",
       "      <td>NaN</td>\n",
       "      <td>51.56242</td>\n",
       "      <td>-0.01241</td>\n",
       "      <td>E10 5LZ</td>\n",
       "      <td>Salway House</td>\n",
       "    </tr>\n",
       "    <tr>\n",
       "      <th>2226</th>\n",
       "      <td>75500</td>\n",
       "      <td>10 Aug 2001</td>\n",
       "      <td>Leasehold</td>\n",
       "      <td>False</td>\n",
       "      <td>Flat 12, Salway House, 25, Thornhill Road, Lon...</td>\n",
       "      <td>Flat</td>\n",
       "      <td>NaN</td>\n",
       "      <td>/spw/images/placeholder/no-image.svg</td>\n",
       "      <td>False</td>\n",
       "      <td>NaN</td>\n",
       "      <td>51.56242</td>\n",
       "      <td>-0.01241</td>\n",
       "      <td>E10 5LZ</td>\n",
       "      <td>Salway House</td>\n",
       "    </tr>\n",
       "    <tr>\n",
       "      <th>2249</th>\n",
       "      <td>387500</td>\n",
       "      <td>12 Jul 2019</td>\n",
       "      <td>Leasehold</td>\n",
       "      <td>False</td>\n",
       "      <td>Flat 17, Plaza Heights, 12, Maud Road, London,...</td>\n",
       "      <td>Flat</td>\n",
       "      <td>NaN</td>\n",
       "      <td>/spw/images/placeholder/no-image.svg</td>\n",
       "      <td>False</td>\n",
       "      <td>NaN</td>\n",
       "      <td>51.55676</td>\n",
       "      <td>-0.00703</td>\n",
       "      <td>E10 5QS</td>\n",
       "      <td>Plaza Heights</td>\n",
       "    </tr>\n",
       "    <tr>\n",
       "      <th>2250</th>\n",
       "      <td>380000</td>\n",
       "      <td>6 Jul 2016</td>\n",
       "      <td>Leasehold</td>\n",
       "      <td>False</td>\n",
       "      <td>Flat 17, Plaza Heights, 12, Maud Road, London,...</td>\n",
       "      <td>Flat</td>\n",
       "      <td>NaN</td>\n",
       "      <td>/spw/images/placeholder/no-image.svg</td>\n",
       "      <td>False</td>\n",
       "      <td>NaN</td>\n",
       "      <td>51.55676</td>\n",
       "      <td>-0.00703</td>\n",
       "      <td>E10 5QS</td>\n",
       "      <td>Plaza Heights</td>\n",
       "    </tr>\n",
       "    <tr>\n",
       "      <th>2251</th>\n",
       "      <td>220000</td>\n",
       "      <td>29 Sep 2005</td>\n",
       "      <td>Leasehold</td>\n",
       "      <td>True</td>\n",
       "      <td>Flat 17, Plaza Heights, 12, Maud Road, London,...</td>\n",
       "      <td>Flat</td>\n",
       "      <td>NaN</td>\n",
       "      <td>/spw/images/placeholder/no-image.svg</td>\n",
       "      <td>False</td>\n",
       "      <td>NaN</td>\n",
       "      <td>51.55676</td>\n",
       "      <td>-0.00703</td>\n",
       "      <td>E10 5QS</td>\n",
       "      <td>Plaza Heights</td>\n",
       "    </tr>\n",
       "  </tbody>\n",
       "</table>\n",
       "<p>263 rows × 14 columns</p>\n",
       "</div>"
      ],
      "text/plain": [
       "       Price    Date_Sold Tenure_Type  New_Build  \\\n",
       "76    352000  27 Sep 2021   Leasehold      False   \n",
       "77    305000   1 Jun 2017   Leasehold      False   \n",
       "87    220100   3 Sep 2021   Leasehold      False   \n",
       "88    205000  29 Oct 2019   Leasehold      False   \n",
       "89    130000  27 Feb 2014   Leasehold      False   \n",
       "...      ...          ...         ...        ...   \n",
       "2225  257000  16 Sep 2015   Leasehold      False   \n",
       "2226   75500  10 Aug 2001   Leasehold      False   \n",
       "2249  387500  12 Jul 2019   Leasehold      False   \n",
       "2250  380000   6 Jul 2016   Leasehold      False   \n",
       "2251  220000  29 Sep 2005   Leasehold       True   \n",
       "\n",
       "                                                Address Property_Type  \\\n",
       "76    Flat B, 311, Church Road, Leyton, London, Grea...          Flat   \n",
       "77    Flat B, 311, Church Road, Leyton, London, Grea...          Flat   \n",
       "87    Flat 19, Chessington Mansions, 14, Albany Road...          Flat   \n",
       "88    Flat 19, Chessington Mansions, 14, Albany Road...          Flat   \n",
       "89    Flat 19, Chessington Mansions, 14, Albany Road...          Flat   \n",
       "...                                                 ...           ...   \n",
       "2225  Flat 12, Salway House, 25, Thornhill Road, Lon...          Flat   \n",
       "2226  Flat 12, Salway House, 25, Thornhill Road, Lon...          Flat   \n",
       "2249  Flat 17, Plaza Heights, 12, Maud Road, London,...          Flat   \n",
       "2250  Flat 17, Plaza Heights, 12, Maud Road, London,...          Flat   \n",
       "2251  Flat 17, Plaza Heights, 12, Maud Road, London,...          Flat   \n",
       "\n",
       "      Num_Bedrooms                             Image_URL  Floorplan  URL  \\\n",
       "76             NaN  /spw/images/placeholder/no-image.svg      False  NaN   \n",
       "77             NaN  /spw/images/placeholder/no-image.svg      False  NaN   \n",
       "87             NaN  /spw/images/placeholder/no-image.svg      False  NaN   \n",
       "88             NaN  /spw/images/placeholder/no-image.svg      False  NaN   \n",
       "89             NaN  /spw/images/placeholder/no-image.svg      False  NaN   \n",
       "...            ...                                   ...        ...  ...   \n",
       "2225           NaN  /spw/images/placeholder/no-image.svg      False  NaN   \n",
       "2226           NaN  /spw/images/placeholder/no-image.svg      False  NaN   \n",
       "2249           NaN  /spw/images/placeholder/no-image.svg      False  NaN   \n",
       "2250           NaN  /spw/images/placeholder/no-image.svg      False  NaN   \n",
       "2251           NaN  /spw/images/placeholder/no-image.svg      False  NaN   \n",
       "\n",
       "      Latitude  Longitude Post_Code              Road_Name  \n",
       "76    51.56918   -0.02366   E10 7JG                    311  \n",
       "77    51.56918   -0.02366   E10 7JG                    311  \n",
       "87    51.57287   -0.01845   E10 7EW   Chessington Mansions  \n",
       "88    51.57287   -0.01845   E10 7EW   Chessington Mansions  \n",
       "89    51.57287   -0.01845   E10 7EW   Chessington Mansions  \n",
       "...        ...        ...       ...                    ...  \n",
       "2225  51.56242   -0.01241   E10 5LZ           Salway House  \n",
       "2226  51.56242   -0.01241   E10 5LZ           Salway House  \n",
       "2249  51.55676   -0.00703   E10 5QS          Plaza Heights  \n",
       "2250  51.55676   -0.00703   E10 5QS          Plaza Heights  \n",
       "2251  51.55676   -0.00703   E10 5QS          Plaza Heights  \n",
       "\n",
       "[263 rows x 14 columns]"
      ]
     },
     "execution_count": 8,
     "metadata": {},
     "output_type": "execute_result"
    }
   ],
   "source": [
    "df.loc[df['Address'].str.contains('flat',case=False)]"
   ]
  },
  {
   "cell_type": "code",
   "execution_count": 24,
   "metadata": {},
   "outputs": [],
   "source": [
    "def incorrect_road_name(cols):\n",
    "    road = cols[0]\n",
    "    address = cols[1]\n",
    "\n",
    "    if len(road) < 6:\n",
    "        return address.split(',')[2]\n",
    "\n",
    "    else:\n",
    "        return road"
   ]
  },
  {
   "cell_type": "code",
   "execution_count": 25,
   "metadata": {},
   "outputs": [
    {
     "data": {
      "text/html": [
       "<div>\n",
       "<style scoped>\n",
       "    .dataframe tbody tr th:only-of-type {\n",
       "        vertical-align: middle;\n",
       "    }\n",
       "\n",
       "    .dataframe tbody tr th {\n",
       "        vertical-align: top;\n",
       "    }\n",
       "\n",
       "    .dataframe thead th {\n",
       "        text-align: right;\n",
       "    }\n",
       "</style>\n",
       "<table border=\"1\" class=\"dataframe\">\n",
       "  <thead>\n",
       "    <tr style=\"text-align: right;\">\n",
       "      <th></th>\n",
       "      <th>Price</th>\n",
       "      <th>Date_Sold</th>\n",
       "      <th>Tenure_Type</th>\n",
       "      <th>New_Build</th>\n",
       "      <th>Address</th>\n",
       "      <th>Property_Type</th>\n",
       "      <th>Num_Bedrooms</th>\n",
       "      <th>Floorplan</th>\n",
       "      <th>Latitude</th>\n",
       "      <th>Longitude</th>\n",
       "      <th>Post_Code</th>\n",
       "      <th>Road_Name</th>\n",
       "      <th>Year_Sold</th>\n",
       "    </tr>\n",
       "  </thead>\n",
       "  <tbody>\n",
       "    <tr>\n",
       "      <th>162</th>\n",
       "      <td>485000</td>\n",
       "      <td>29 Jun 2021</td>\n",
       "      <td>Leasehold</td>\n",
       "      <td>False</td>\n",
       "      <td>Flat C, 42, Grange Park Road, London, Greater ...</td>\n",
       "      <td>Flat</td>\n",
       "      <td>2.0</td>\n",
       "      <td>False</td>\n",
       "      <td>51.56543</td>\n",
       "      <td>-0.01473</td>\n",
       "      <td>E10 5ES</td>\n",
       "      <td>Grange Park Road</td>\n",
       "      <td>2021</td>\n",
       "    </tr>\n",
       "    <tr>\n",
       "      <th>163</th>\n",
       "      <td>450000</td>\n",
       "      <td>22 Jun 2018</td>\n",
       "      <td>Leasehold</td>\n",
       "      <td>False</td>\n",
       "      <td>Flat C, 42, Grange Park Road, London, Greater ...</td>\n",
       "      <td>Flat</td>\n",
       "      <td>2.0</td>\n",
       "      <td>False</td>\n",
       "      <td>51.56543</td>\n",
       "      <td>-0.01473</td>\n",
       "      <td>E10 5ES</td>\n",
       "      <td>Grange Park Road</td>\n",
       "      <td>2018</td>\n",
       "    </tr>\n",
       "    <tr>\n",
       "      <th>164</th>\n",
       "      <td>250000</td>\n",
       "      <td>18 Apr 2013</td>\n",
       "      <td>Leasehold</td>\n",
       "      <td>False</td>\n",
       "      <td>Flat C, 42, Grange Park Road, London, Greater ...</td>\n",
       "      <td>Flat</td>\n",
       "      <td>2.0</td>\n",
       "      <td>False</td>\n",
       "      <td>51.56543</td>\n",
       "      <td>-0.01473</td>\n",
       "      <td>E10 5ES</td>\n",
       "      <td>Grange Park Road</td>\n",
       "      <td>2013</td>\n",
       "    </tr>\n",
       "    <tr>\n",
       "      <th>165</th>\n",
       "      <td>122000</td>\n",
       "      <td>2 Jun 2000</td>\n",
       "      <td>Leasehold</td>\n",
       "      <td>False</td>\n",
       "      <td>Flat C, 42, Grange Park Road, London, Greater ...</td>\n",
       "      <td>Flat</td>\n",
       "      <td>2.0</td>\n",
       "      <td>False</td>\n",
       "      <td>51.56543</td>\n",
       "      <td>-0.01473</td>\n",
       "      <td>E10 5ES</td>\n",
       "      <td>Grange Park Road</td>\n",
       "      <td>2000</td>\n",
       "    </tr>\n",
       "    <tr>\n",
       "      <th>166</th>\n",
       "      <td>54000</td>\n",
       "      <td>7 Jun 1995</td>\n",
       "      <td>Leasehold</td>\n",
       "      <td>False</td>\n",
       "      <td>Flat C, 42, Grange Park Road, London, Greater ...</td>\n",
       "      <td>Flat</td>\n",
       "      <td>2.0</td>\n",
       "      <td>False</td>\n",
       "      <td>51.56543</td>\n",
       "      <td>-0.01473</td>\n",
       "      <td>E10 5ES</td>\n",
       "      <td>Grange Park Road</td>\n",
       "      <td>1995</td>\n",
       "    </tr>\n",
       "  </tbody>\n",
       "</table>\n",
       "</div>"
      ],
      "text/plain": [
       "      Price    Date_Sold Tenure_Type  New_Build  \\\n",
       "162  485000  29 Jun 2021   Leasehold      False   \n",
       "163  450000  22 Jun 2018   Leasehold      False   \n",
       "164  250000  18 Apr 2013   Leasehold      False   \n",
       "165  122000   2 Jun 2000   Leasehold      False   \n",
       "166   54000   7 Jun 1995   Leasehold      False   \n",
       "\n",
       "                                               Address Property_Type  \\\n",
       "162  Flat C, 42, Grange Park Road, London, Greater ...          Flat   \n",
       "163  Flat C, 42, Grange Park Road, London, Greater ...          Flat   \n",
       "164  Flat C, 42, Grange Park Road, London, Greater ...          Flat   \n",
       "165  Flat C, 42, Grange Park Road, London, Greater ...          Flat   \n",
       "166  Flat C, 42, Grange Park Road, London, Greater ...          Flat   \n",
       "\n",
       "     Num_Bedrooms  Floorplan  Latitude  Longitude Post_Code  \\\n",
       "162           2.0      False  51.56543   -0.01473   E10 5ES   \n",
       "163           2.0      False  51.56543   -0.01473   E10 5ES   \n",
       "164           2.0      False  51.56543   -0.01473   E10 5ES   \n",
       "165           2.0      False  51.56543   -0.01473   E10 5ES   \n",
       "166           2.0      False  51.56543   -0.01473   E10 5ES   \n",
       "\n",
       "             Road_Name  Year_Sold  \n",
       "162   Grange Park Road       2021  \n",
       "163   Grange Park Road       2018  \n",
       "164   Grange Park Road       2013  \n",
       "165   Grange Park Road       2000  \n",
       "166   Grange Park Road       1995  "
      ]
     },
     "execution_count": 25,
     "metadata": {},
     "output_type": "execute_result"
    }
   ],
   "source": [
    "df['Road_Name'] = df[['Road_Name','Address']].apply(incorrect_road_name,axis=1)\n",
    "\n",
    "df.loc[df['Address'].str.contains('flat',case=False)].head()"
   ]
  },
  {
   "cell_type": "markdown",
   "metadata": {},
   "source": [
    "I also want to analyse properties by year sold so I will convert 'Date_Sold' to 'Year_Sold'"
   ]
  },
  {
   "cell_type": "code",
   "execution_count": 11,
   "metadata": {},
   "outputs": [],
   "source": [
    "df['Year_Sold'] = df['Date_Sold'].apply(lambda x: x[-4:])\n",
    "df['Year_Sold'] =df['Year_Sold'].astype(int)"
   ]
  },
  {
   "cell_type": "markdown",
   "metadata": {},
   "source": [
    "To make sure categorical features are the correct data type, I need to convert the features into object data types"
   ]
  },
  {
   "cell_type": "code",
   "execution_count": 12,
   "metadata": {},
   "outputs": [
    {
     "data": {
      "text/html": [
       "<div>\n",
       "<style scoped>\n",
       "    .dataframe tbody tr th:only-of-type {\n",
       "        vertical-align: middle;\n",
       "    }\n",
       "\n",
       "    .dataframe tbody tr th {\n",
       "        vertical-align: top;\n",
       "    }\n",
       "\n",
       "    .dataframe thead th {\n",
       "        text-align: right;\n",
       "    }\n",
       "</style>\n",
       "<table border=\"1\" class=\"dataframe\">\n",
       "  <thead>\n",
       "    <tr style=\"text-align: right;\">\n",
       "      <th></th>\n",
       "      <th>Price</th>\n",
       "      <th>Date_Sold</th>\n",
       "      <th>Tenure_Type</th>\n",
       "      <th>New_Build</th>\n",
       "      <th>Address</th>\n",
       "      <th>Property_Type</th>\n",
       "      <th>Num_Bedrooms</th>\n",
       "      <th>Image_URL</th>\n",
       "      <th>Floorplan</th>\n",
       "      <th>URL</th>\n",
       "      <th>Latitude</th>\n",
       "      <th>Longitude</th>\n",
       "      <th>Post_Code</th>\n",
       "      <th>Road_Name</th>\n",
       "      <th>Year_Sold</th>\n",
       "    </tr>\n",
       "  </thead>\n",
       "  <tbody>\n",
       "    <tr>\n",
       "      <th>0</th>\n",
       "      <td>720050</td>\n",
       "      <td>17 Dec 2021</td>\n",
       "      <td>Freehold</td>\n",
       "      <td>False</td>\n",
       "      <td>11, Whitney Road, London, Greater London E10 7HG</td>\n",
       "      <td>Terraced</td>\n",
       "      <td>3.0</td>\n",
       "      <td>https://media.rightmove.co.uk/dir/66k/65394/10...</td>\n",
       "      <td>True</td>\n",
       "      <td>https://www.rightmove.co.uk/house-prices/detai...</td>\n",
       "      <td>51.57167</td>\n",
       "      <td>-0.01677</td>\n",
       "      <td>E10 7HG</td>\n",
       "      <td>Whitney Road</td>\n",
       "      <td>2021</td>\n",
       "    </tr>\n",
       "    <tr>\n",
       "      <th>1</th>\n",
       "      <td>445000</td>\n",
       "      <td>12 Aug 2015</td>\n",
       "      <td>Freehold</td>\n",
       "      <td>False</td>\n",
       "      <td>11, Whitney Road, London, Greater London E10 7HG</td>\n",
       "      <td>Terraced</td>\n",
       "      <td>3.0</td>\n",
       "      <td>https://media.rightmove.co.uk/dir/66k/65394/10...</td>\n",
       "      <td>True</td>\n",
       "      <td>https://www.rightmove.co.uk/house-prices/detai...</td>\n",
       "      <td>51.57167</td>\n",
       "      <td>-0.01677</td>\n",
       "      <td>E10 7HG</td>\n",
       "      <td>Whitney Road</td>\n",
       "      <td>2015</td>\n",
       "    </tr>\n",
       "    <tr>\n",
       "      <th>2</th>\n",
       "      <td>643756</td>\n",
       "      <td>9 Dec 2021</td>\n",
       "      <td>Freehold</td>\n",
       "      <td>False</td>\n",
       "      <td>82, Manor Road, Leyton, London, Greater London...</td>\n",
       "      <td>Terraced</td>\n",
       "      <td>4.0</td>\n",
       "      <td>https://media.rightmove.co.uk/dir/71k/70202/11...</td>\n",
       "      <td>True</td>\n",
       "      <td>https://www.rightmove.co.uk/house-prices/detai...</td>\n",
       "      <td>51.57082</td>\n",
       "      <td>-0.01955</td>\n",
       "      <td>E10 7HN</td>\n",
       "      <td>Manor Road</td>\n",
       "      <td>2021</td>\n",
       "    </tr>\n",
       "    <tr>\n",
       "      <th>3</th>\n",
       "      <td>355000</td>\n",
       "      <td>7 Sep 2007</td>\n",
       "      <td>Freehold</td>\n",
       "      <td>False</td>\n",
       "      <td>82, Manor Road, Leyton, London, Greater London...</td>\n",
       "      <td>Terraced</td>\n",
       "      <td>4.0</td>\n",
       "      <td>https://media.rightmove.co.uk/dir/71k/70202/11...</td>\n",
       "      <td>True</td>\n",
       "      <td>https://www.rightmove.co.uk/house-prices/detai...</td>\n",
       "      <td>51.57082</td>\n",
       "      <td>-0.01955</td>\n",
       "      <td>E10 7HN</td>\n",
       "      <td>Manor Road</td>\n",
       "      <td>2007</td>\n",
       "    </tr>\n",
       "    <tr>\n",
       "      <th>4</th>\n",
       "      <td>220000</td>\n",
       "      <td>23 Mar 2006</td>\n",
       "      <td>Freehold</td>\n",
       "      <td>False</td>\n",
       "      <td>82, Manor Road, Leyton, London, Greater London...</td>\n",
       "      <td>Terraced</td>\n",
       "      <td>4.0</td>\n",
       "      <td>https://media.rightmove.co.uk/dir/71k/70202/11...</td>\n",
       "      <td>True</td>\n",
       "      <td>https://www.rightmove.co.uk/house-prices/detai...</td>\n",
       "      <td>51.57082</td>\n",
       "      <td>-0.01955</td>\n",
       "      <td>E10 7HN</td>\n",
       "      <td>Manor Road</td>\n",
       "      <td>2006</td>\n",
       "    </tr>\n",
       "  </tbody>\n",
       "</table>\n",
       "</div>"
      ],
      "text/plain": [
       "    Price    Date_Sold Tenure_Type New_Build  \\\n",
       "0  720050  17 Dec 2021    Freehold     False   \n",
       "1  445000  12 Aug 2015    Freehold     False   \n",
       "2  643756   9 Dec 2021    Freehold     False   \n",
       "3  355000   7 Sep 2007    Freehold     False   \n",
       "4  220000  23 Mar 2006    Freehold     False   \n",
       "\n",
       "                                             Address Property_Type  \\\n",
       "0   11, Whitney Road, London, Greater London E10 7HG      Terraced   \n",
       "1   11, Whitney Road, London, Greater London E10 7HG      Terraced   \n",
       "2  82, Manor Road, Leyton, London, Greater London...      Terraced   \n",
       "3  82, Manor Road, Leyton, London, Greater London...      Terraced   \n",
       "4  82, Manor Road, Leyton, London, Greater London...      Terraced   \n",
       "\n",
       "   Num_Bedrooms                                          Image_URL Floorplan  \\\n",
       "0           3.0  https://media.rightmove.co.uk/dir/66k/65394/10...      True   \n",
       "1           3.0  https://media.rightmove.co.uk/dir/66k/65394/10...      True   \n",
       "2           4.0  https://media.rightmove.co.uk/dir/71k/70202/11...      True   \n",
       "3           4.0  https://media.rightmove.co.uk/dir/71k/70202/11...      True   \n",
       "4           4.0  https://media.rightmove.co.uk/dir/71k/70202/11...      True   \n",
       "\n",
       "                                                 URL  Latitude  Longitude  \\\n",
       "0  https://www.rightmove.co.uk/house-prices/detai...  51.57167   -0.01677   \n",
       "1  https://www.rightmove.co.uk/house-prices/detai...  51.57167   -0.01677   \n",
       "2  https://www.rightmove.co.uk/house-prices/detai...  51.57082   -0.01955   \n",
       "3  https://www.rightmove.co.uk/house-prices/detai...  51.57082   -0.01955   \n",
       "4  https://www.rightmove.co.uk/house-prices/detai...  51.57082   -0.01955   \n",
       "\n",
       "  Post_Code      Road_Name  Year_Sold  \n",
       "0   E10 7HG   Whitney Road       2021  \n",
       "1   E10 7HG   Whitney Road       2015  \n",
       "2   E10 7HN     Manor Road       2021  \n",
       "3   E10 7HN     Manor Road       2007  \n",
       "4   E10 7HN     Manor Road       2006  "
      ]
     },
     "execution_count": 12,
     "metadata": {},
     "output_type": "execute_result"
    }
   ],
   "source": [
    "categorical_columns = ['Tenure_Type','Property_Type','New_Build','Floorplan']\n",
    "df[categorical_columns] = df[categorical_columns].astype(object)\n",
    "df.head()"
   ]
  },
  {
   "cell_type": "markdown",
   "metadata": {},
   "source": [
    "Looking through the frequency of the values in categorical features. I removed duplicates of the same property as the duplicates will inflate the values of the graphs."
   ]
  },
  {
   "cell_type": "code",
   "execution_count": 13,
   "metadata": {},
   "outputs": [
    {
     "data": {
      "image/png": "[encoded data removed]",
      "text/plain": [
       "<Figure size 864x576 with 4 Axes>"
      ]
     },
     "metadata": {
      "needs_background": "light"
     },
     "output_type": "display_data"
    }
   ],
   "source": [
    "fig, axes = plt.subplots(2,2,figsize=(12,8), sharey=True)\n",
    "\n",
    "for column, ax in zip(categorical_columns,axes.ravel()):\n",
    "    sns.countplot(x=column,data=df.drop_duplicates(subset=['Address']),ax=ax)\n",
    "\n",
    "    ax.set_ylabel('Number of Properties')\n",
    "\n",
    "\n",
    "\n",
    "plt.tight_layout()"
   ]
  },
  {
   "cell_type": "markdown",
   "metadata": {},
   "source": [
    "Renaming labels for some categories"
   ]
  },
  {
   "cell_type": "code",
   "execution_count": 14,
   "metadata": {},
   "outputs": [],
   "source": [
    "df['New_Build'].replace({'False':'No','True':'Yes'},inplace=True)\n",
    "\n",
    "df['Floorplan'].replace({'False':'No','True':'Yes'},inplace=True)"
   ]
  },
  {
   "cell_type": "markdown",
   "metadata": {},
   "source": [
    "### Removing Unnecessary Columns\n",
    "\n",
    "Removing the unnecessary columns: 'Image_URL' & 'URL'. The analysis has no use for the URL links of the property"
   ]
  },
  {
   "cell_type": "code",
   "execution_count": 15,
   "metadata": {},
   "outputs": [
    {
     "data": {
      "text/html": [
       "<div>\n",
       "<style scoped>\n",
       "    .dataframe tbody tr th:only-of-type {\n",
       "        vertical-align: middle;\n",
       "    }\n",
       "\n",
       "    .dataframe tbody tr th {\n",
       "        vertical-align: top;\n",
       "    }\n",
       "\n",
       "    .dataframe thead th {\n",
       "        text-align: right;\n",
       "    }\n",
       "</style>\n",
       "<table border=\"1\" class=\"dataframe\">\n",
       "  <thead>\n",
       "    <tr style=\"text-align: right;\">\n",
       "      <th></th>\n",
       "      <th>Price</th>\n",
       "      <th>Date_Sold</th>\n",
       "      <th>Tenure_Type</th>\n",
       "      <th>New_Build</th>\n",
       "      <th>Address</th>\n",
       "      <th>Property_Type</th>\n",
       "      <th>Num_Bedrooms</th>\n",
       "      <th>Floorplan</th>\n",
       "      <th>Latitude</th>\n",
       "      <th>Longitude</th>\n",
       "      <th>Post_Code</th>\n",
       "      <th>Road_Name</th>\n",
       "      <th>Year_Sold</th>\n",
       "    </tr>\n",
       "  </thead>\n",
       "  <tbody>\n",
       "    <tr>\n",
       "      <th>0</th>\n",
       "      <td>720050</td>\n",
       "      <td>17 Dec 2021</td>\n",
       "      <td>Freehold</td>\n",
       "      <td>False</td>\n",
       "      <td>11, Whitney Road, London, Greater London E10 7HG</td>\n",
       "      <td>Terraced</td>\n",
       "      <td>3.0</td>\n",
       "      <td>True</td>\n",
       "      <td>51.57167</td>\n",
       "      <td>-0.01677</td>\n",
       "      <td>E10 7HG</td>\n",
       "      <td>Whitney Road</td>\n",
       "      <td>2021</td>\n",
       "    </tr>\n",
       "    <tr>\n",
       "      <th>1</th>\n",
       "      <td>445000</td>\n",
       "      <td>12 Aug 2015</td>\n",
       "      <td>Freehold</td>\n",
       "      <td>False</td>\n",
       "      <td>11, Whitney Road, London, Greater London E10 7HG</td>\n",
       "      <td>Terraced</td>\n",
       "      <td>3.0</td>\n",
       "      <td>True</td>\n",
       "      <td>51.57167</td>\n",
       "      <td>-0.01677</td>\n",
       "      <td>E10 7HG</td>\n",
       "      <td>Whitney Road</td>\n",
       "      <td>2015</td>\n",
       "    </tr>\n",
       "    <tr>\n",
       "      <th>2</th>\n",
       "      <td>643756</td>\n",
       "      <td>9 Dec 2021</td>\n",
       "      <td>Freehold</td>\n",
       "      <td>False</td>\n",
       "      <td>82, Manor Road, Leyton, London, Greater London...</td>\n",
       "      <td>Terraced</td>\n",
       "      <td>4.0</td>\n",
       "      <td>True</td>\n",
       "      <td>51.57082</td>\n",
       "      <td>-0.01955</td>\n",
       "      <td>E10 7HN</td>\n",
       "      <td>Manor Road</td>\n",
       "      <td>2021</td>\n",
       "    </tr>\n",
       "    <tr>\n",
       "      <th>3</th>\n",
       "      <td>355000</td>\n",
       "      <td>7 Sep 2007</td>\n",
       "      <td>Freehold</td>\n",
       "      <td>False</td>\n",
       "      <td>82, Manor Road, Leyton, London, Greater London...</td>\n",
       "      <td>Terraced</td>\n",
       "      <td>4.0</td>\n",
       "      <td>True</td>\n",
       "      <td>51.57082</td>\n",
       "      <td>-0.01955</td>\n",
       "      <td>E10 7HN</td>\n",
       "      <td>Manor Road</td>\n",
       "      <td>2007</td>\n",
       "    </tr>\n",
       "    <tr>\n",
       "      <th>4</th>\n",
       "      <td>220000</td>\n",
       "      <td>23 Mar 2006</td>\n",
       "      <td>Freehold</td>\n",
       "      <td>False</td>\n",
       "      <td>82, Manor Road, Leyton, London, Greater London...</td>\n",
       "      <td>Terraced</td>\n",
       "      <td>4.0</td>\n",
       "      <td>True</td>\n",
       "      <td>51.57082</td>\n",
       "      <td>-0.01955</td>\n",
       "      <td>E10 7HN</td>\n",
       "      <td>Manor Road</td>\n",
       "      <td>2006</td>\n",
       "    </tr>\n",
       "  </tbody>\n",
       "</table>\n",
       "</div>"
      ],
      "text/plain": [
       "    Price    Date_Sold Tenure_Type  New_Build  \\\n",
       "0  720050  17 Dec 2021    Freehold      False   \n",
       "1  445000  12 Aug 2015    Freehold      False   \n",
       "2  643756   9 Dec 2021    Freehold      False   \n",
       "3  355000   7 Sep 2007    Freehold      False   \n",
       "4  220000  23 Mar 2006    Freehold      False   \n",
       "\n",
       "                                             Address Property_Type  \\\n",
       "0   11, Whitney Road, London, Greater London E10 7HG      Terraced   \n",
       "1   11, Whitney Road, London, Greater London E10 7HG      Terraced   \n",
       "2  82, Manor Road, Leyton, London, Greater London...      Terraced   \n",
       "3  82, Manor Road, Leyton, London, Greater London...      Terraced   \n",
       "4  82, Manor Road, Leyton, London, Greater London...      Terraced   \n",
       "\n",
       "   Num_Bedrooms  Floorplan  Latitude  Longitude Post_Code      Road_Name  \\\n",
       "0           3.0       True  51.57167   -0.01677   E10 7HG   Whitney Road   \n",
       "1           3.0       True  51.57167   -0.01677   E10 7HG   Whitney Road   \n",
       "2           4.0       True  51.57082   -0.01955   E10 7HN     Manor Road   \n",
       "3           4.0       True  51.57082   -0.01955   E10 7HN     Manor Road   \n",
       "4           4.0       True  51.57082   -0.01955   E10 7HN     Manor Road   \n",
       "\n",
       "   Year_Sold  \n",
       "0       2021  \n",
       "1       2015  \n",
       "2       2021  \n",
       "3       2007  \n",
       "4       2006  "
      ]
     },
     "execution_count": 15,
     "metadata": {},
     "output_type": "execute_result"
    }
   ],
   "source": [
    "df.drop(['Image_URL','URL'],axis=1,inplace=True)\n",
    "df.head()"
   ]
  },
  {
   "cell_type": "markdown",
   "metadata": {},
   "source": [
    "### Handling Missing Values\n",
    "Checking for any missing values. There seems to be missing values for 'Num_Bedrooms'"
   ]
  },
  {
   "cell_type": "code",
   "execution_count": 16,
   "metadata": {},
   "outputs": [
    {
     "data": {
      "text/plain": [
       "Price              0\n",
       "Date_Sold          0\n",
       "Tenure_Type        0\n",
       "New_Build          0\n",
       "Address            0\n",
       "Property_Type      0\n",
       "Num_Bedrooms     690\n",
       "Floorplan          0\n",
       "Latitude           0\n",
       "Longitude          0\n",
       "Post_Code          0\n",
       "Road_Name          0\n",
       "Year_Sold          0\n",
       "dtype: int64"
      ]
     },
     "execution_count": 16,
     "metadata": {},
     "output_type": "execute_result"
    }
   ],
   "source": [
    "df.isnull().sum()"
   ]
  },
  {
   "cell_type": "code",
   "execution_count": 17,
   "metadata": {},
   "outputs": [
    {
     "data": {
      "text/plain": [
       "Price             0.000000\n",
       "Date_Sold         0.000000\n",
       "Tenure_Type       0.000000\n",
       "New_Build         0.000000\n",
       "Address           0.000000\n",
       "Property_Type     0.000000\n",
       "Num_Bedrooms     30.289728\n",
       "Floorplan         0.000000\n",
       "Latitude          0.000000\n",
       "Longitude         0.000000\n",
       "Post_Code         0.000000\n",
       "Road_Name         0.000000\n",
       "Year_Sold         0.000000\n",
       "dtype: float64"
      ]
     },
     "execution_count": 17,
     "metadata": {},
     "output_type": "execute_result"
    }
   ],
   "source": [
    "df.isnull().sum()*100/len(df)"
   ]
  },
  {
   "cell_type": "markdown",
   "metadata": {},
   "source": [
    "There are around 30% missing values for 'Num_Bedrooms' so it would usually be a good idea to disregard the column. Since, I believe number of bedrooms contain a large amount of information, I will remove the rows with number of bedrooms missing. I will try to impute the missing values in the future and compare if model performance improves."
   ]
  },
  {
   "cell_type": "code",
   "execution_count": 18,
   "metadata": {},
   "outputs": [
    {
     "data": {
      "image/png": "[encoded data removed]",
      "text/plain": [
       "<Figure size 864x504 with 1 Axes>"
      ]
     },
     "metadata": {
      "needs_background": "light"
     },
     "output_type": "display_data"
    }
   ],
   "source": [
    "plt.figure(figsize=(12,7))\n",
    "axis = sns.heatmap(df.isnull(),cbar=False,yticklabels=False)"
   ]
  },
  {
   "cell_type": "code",
   "execution_count": 19,
   "metadata": {},
   "outputs": [],
   "source": [
    "df.dropna(subset=['Num_Bedrooms'],inplace=True)"
   ]
  },
  {
   "cell_type": "code",
   "execution_count": 20,
   "metadata": {},
   "outputs": [
    {
     "data": {
      "image/png": "[encoded data removed]",
      "text/plain": [
       "<Figure size 864x504 with 1 Axes>"
      ]
     },
     "metadata": {
      "needs_background": "light"
     },
     "output_type": "display_data"
    }
   ],
   "source": [
    "plt.figure(figsize=(12,7))\n",
    "axis = sns.heatmap(df.isnull(),cbar=False,yticklabels=False)"
   ]
  },
  {
   "cell_type": "markdown",
   "metadata": {},
   "source": [
    "Ideally I would impute the missing values of number of bedrooms using the mean of price. However, house prices vary greatly depending year sold and therefore it would be too inaccurate to use the average price for all years. I would like to impute the number of bedrooms based on mean price for a given year."
   ]
  },
  {
   "cell_type": "code",
   "execution_count": null,
   "metadata": {},
   "outputs": [],
   "source": []
  },
  {
   "cell_type": "markdown",
   "metadata": {},
   "source": [
    "## Exploratory Data Analysis\n",
    "\n",
    "Before I conduct exploratory data analysis using Matplotlib and Seaborn, I will first export the dataframe to analyse in Tableau and create a dashboard to allow users to analyse the data and extract information. The dashboard hopefully allows users to draw insight and make decisions regarding potentially buying or selling properties in the area."
   ]
  },
  {
   "cell_type": "code",
   "execution_count": 21,
   "metadata": {},
   "outputs": [],
   "source": [
    "df.to_csv('Property Data Tableau.csv',index=False)"
   ]
  },
  {
   "cell_type": "markdown",
   "metadata": {},
   "source": [
    "Please visit the dashboard here: "
   ]
  },
  {
   "cell_type": "markdown",
   "metadata": {},
   "source": [
    "Continuing to visualise the data, we can see below that on average as the number of bedrooms in a house increases, the price also increases. There is an exception where a 1 bedroom house has a higher average price compared to 2 bedroom houses. This can be due to an increase in number of sales of 1 bedroom properties compared to 2 bedroom properties in more recent years where house prices are significantly greater."
   ]
  },
  {
   "cell_type": "code",
   "execution_count": 22,
   "metadata": {},
   "outputs": [
    {
     "data": {
      "text/plain": [
       "<AxesSubplot:xlabel='Num_Bedrooms', ylabel='Price'>"
      ]
     },
     "execution_count": 22,
     "metadata": {},
     "output_type": "execute_result"
    },
    {
     "data": {
      "image/png": "[encoded data removed]",
      "text/plain": [
       "<Figure size 864x504 with 1 Axes>"
      ]
     },
     "metadata": {
      "needs_background": "light"
     },
     "output_type": "display_data"
    }
   ],
   "source": [
    "plt.figure(figsize=(12, 7))\n",
    "sns.boxplot(x='Num_Bedrooms',y='Price',data=df,palette='winter')"
   ]
  },
  {
   "cell_type": "markdown",
   "metadata": {},
   "source": [
    "Separating the different bedroom prices depending on the year. We can see that the more bedrooms a property has, the higher the mean price is."
   ]
  },
  {
   "cell_type": "code",
   "execution_count": 23,
   "metadata": {},
   "outputs": [
    {
     "ename": "NameError",
     "evalue": "name 'x' is not defined",
     "output_type": "error",
     "traceback": [
      "\u001b[0;31m---------------------------------------------------------------------------\u001b[0m",
      "\u001b[0;31mNameError\u001b[0m                                 Traceback (most recent call last)",
      "\u001b[0;32m/var/folders/2_/08fmp8hd5sn41mj0flx0plxh0000gn/T/ipykernel_77410/263926739.py\u001b[0m in \u001b[0;36m<module>\u001b[0;34m\u001b[0m\n\u001b[1;32m      3\u001b[0m \u001b[0;32mfor\u001b[0m \u001b[0midx\u001b[0m\u001b[0;34m,\u001b[0m \u001b[0mbedrooms\u001b[0m \u001b[0;32min\u001b[0m \u001b[0menumerate\u001b[0m\u001b[0;34m(\u001b[0m\u001b[0;34m[\u001b[0m\u001b[0;36m1.0\u001b[0m\u001b[0;34m,\u001b[0m\u001b[0;36m2.0\u001b[0m\u001b[0;34m,\u001b[0m\u001b[0;36m3.0\u001b[0m\u001b[0;34m,\u001b[0m\u001b[0;36m4.0\u001b[0m\u001b[0;34m,\u001b[0m\u001b[0;36m5.0\u001b[0m\u001b[0;34m,\u001b[0m\u001b[0;36m7.0\u001b[0m\u001b[0;34m]\u001b[0m\u001b[0;34m,\u001b[0m\u001b[0;36m0\u001b[0m\u001b[0;34m)\u001b[0m\u001b[0;34m:\u001b[0m\u001b[0;34m\u001b[0m\u001b[0;34m\u001b[0m\u001b[0m\n\u001b[1;32m      4\u001b[0m     \u001b[0maxis\u001b[0m\u001b[0;34m[\u001b[0m\u001b[0midx\u001b[0m\u001b[0;34m]\u001b[0m\u001b[0;34m.\u001b[0m\u001b[0mscatter\u001b[0m\u001b[0;34m(\u001b[0m\u001b[0;34m'Year_Sold'\u001b[0m\u001b[0;34m,\u001b[0m\u001b[0;34m'Price'\u001b[0m\u001b[0;34m,\u001b[0m\u001b[0mdata\u001b[0m\u001b[0;34m=\u001b[0m\u001b[0mdf\u001b[0m\u001b[0;34m[\u001b[0m\u001b[0mdf\u001b[0m\u001b[0;34m[\u001b[0m\u001b[0;34m'Num_Bedrooms'\u001b[0m\u001b[0;34m]\u001b[0m\u001b[0;34m==\u001b[0m\u001b[0mbedrooms\u001b[0m\u001b[0;34m]\u001b[0m\u001b[0;34m)\u001b[0m\u001b[0;34m\u001b[0m\u001b[0;34m\u001b[0m\u001b[0m\n\u001b[0;32m----> 5\u001b[0;31m     \u001b[0my_avg\u001b[0m \u001b[0;34m=\u001b[0m \u001b[0;34m[\u001b[0m\u001b[0mnp\u001b[0m\u001b[0;34m.\u001b[0m\u001b[0mmean\u001b[0m\u001b[0;34m(\u001b[0m\u001b[0mx\u001b[0m\u001b[0;34m)\u001b[0m\u001b[0;34m]\u001b[0m \u001b[0;34m*\u001b[0m \u001b[0mlen\u001b[0m\u001b[0;34m(\u001b[0m\u001b[0mx\u001b[0m\u001b[0;34m)\u001b[0m\u001b[0;34m\u001b[0m\u001b[0;34m\u001b[0m\u001b[0m\n\u001b[0m\u001b[1;32m      6\u001b[0m     \u001b[0max\u001b[0m\u001b[0;34m.\u001b[0m\u001b[0mplot\u001b[0m\u001b[0;34m(\u001b[0m\u001b[0mx\u001b[0m\u001b[0;34m,\u001b[0m \u001b[0my_avg\u001b[0m\u001b[0;34m,\u001b[0m \u001b[0mcolor\u001b[0m\u001b[0;34m=\u001b[0m\u001b[0;34m'red'\u001b[0m\u001b[0;34m,\u001b[0m \u001b[0mlw\u001b[0m\u001b[0;34m=\u001b[0m\u001b[0;36m6\u001b[0m\u001b[0;34m,\u001b[0m \u001b[0mls\u001b[0m\u001b[0;34m=\u001b[0m\u001b[0;34m'--'\u001b[0m\u001b[0;34m,\u001b[0m \u001b[0mlabel\u001b[0m\u001b[0;34m=\u001b[0m\u001b[0;34m\"average plot\"\u001b[0m\u001b[0;34m)\u001b[0m\u001b[0;34m\u001b[0m\u001b[0;34m\u001b[0m\u001b[0m\n\u001b[1;32m      7\u001b[0m     \u001b[0maxis\u001b[0m\u001b[0;34m[\u001b[0m\u001b[0midx\u001b[0m\u001b[0;34m]\u001b[0m\u001b[0;34m.\u001b[0m\u001b[0mplot\u001b[0m\u001b[0;34m(\u001b[0m\u001b[0;34m'Year_Sold'\u001b[0m\u001b[0;34m,\u001b[0m\u001b[0;34m'Price'\u001b[0m\u001b[0;34m)\u001b[0m\u001b[0;34m\u001b[0m\u001b[0;34m\u001b[0m\u001b[0m\n",
      "\u001b[0;31mNameError\u001b[0m: name 'x' is not defined"
     ]
    },
    {
     "data": {
      "image/png": "[encoded data removed]",
      "text/plain": [
       "<Figure size 576x2160 with 6 Axes>"
      ]
     },
     "metadata": {
      "needs_background": "light"
     },
     "output_type": "display_data"
    }
   ],
   "source": [
    "fig, axis = plt.subplots(6,1,figsize=(8, 30),sharey=True)\n",
    "\n",
    "for idx, bedrooms in enumerate([1.0,2.0,3.0,4.0,5.0,7.0],0):\n",
    "    axis[idx].scatter('Year_Sold','Price',data=df[df['Num_Bedrooms']==bedrooms])\n",
    "    y_avg = [np.mean(x)] * len(x)\n",
    "    ax.plot(x, y_avg, color='red', lw=6, ls='--', label=\"average plot\")\n",
    "    axis[idx].plot('Year_Sold','Price')\n",
    "    axis[idx].set_title('Price of a {} Bedroom Property'.format(bedrooms))\n",
    "\n",
    "plt.tight_layout()"
   ]
  },
  {
   "cell_type": "markdown",
   "metadata": {},
   "source": [
    "## Data Preprocessing\n",
    "\n",
    "- Remove outliers\n",
    "- Remove Multicolinearity\n",
    "- Convert Datatypes (Categoric -> Numeric Data)"
   ]
  },
  {
   "cell_type": "code",
   "execution_count": null,
   "metadata": {},
   "outputs": [],
   "source": []
  }
 ],
 "metadata": {
  "interpreter": {
   "hash": "1f36ee939a033d3d6cfca871ce038ba922a52cd3660989e49a726b52982cb60c"
  },
  "kernelspec": {
   "display_name": "Python 3.9.7 ('base')",
   "language": "python",
   "name": "python3"
  },
  "language_info": {
   "codemirror_mode": {
    "name": "ipython",
    "version": 3
   },
   "file_extension": ".py",
   "mimetype": "text/x-python",
   "name": "python",
   "nbconvert_exporter": "python",
   "pygments_lexer": "ipython3",
   "version": "3.9.7"
  },
  "orig_nbformat": 4
 },
 "nbformat": 4,
 "nbformat_minor": 2
}
