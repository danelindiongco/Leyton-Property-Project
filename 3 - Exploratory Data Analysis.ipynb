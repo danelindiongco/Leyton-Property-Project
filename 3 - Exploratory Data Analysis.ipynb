{
 "cells": [
  {
   "cell_type": "markdown",
   "metadata": {},
   "source": [
    "## Exploratory Data Analysis\n",
    "\n",
    "First, I need to import my required libraries"
   ]
  },
  {
   "cell_type": "code",
   "execution_count": 1,
   "metadata": {},
   "outputs": [],
   "source": [
    "import numpy as np\n",
    "import pandas as pd\n",
    "import matplotlib.pyplot as plt\n",
    "import seaborn as sns\n",
    "%matplotlib inline"
   ]
  },
  {
   "cell_type": "code",
   "execution_count": 2,
   "metadata": {},
   "outputs": [
    {
     "data": {
      "text/html": [
       "<div>\n",
       "<style scoped>\n",
       "    .dataframe tbody tr th:only-of-type {\n",
       "        vertical-align: middle;\n",
       "    }\n",
       "\n",
       "    .dataframe tbody tr th {\n",
       "        vertical-align: top;\n",
       "    }\n",
       "\n",
       "    .dataframe thead th {\n",
       "        text-align: right;\n",
       "    }\n",
       "</style>\n",
       "<table border=\"1\" class=\"dataframe\">\n",
       "  <thead>\n",
       "    <tr style=\"text-align: right;\">\n",
       "      <th></th>\n",
       "      <th>displayPrice</th>\n",
       "      <th>dateSold</th>\n",
       "      <th>tenure</th>\n",
       "      <th>newBuild</th>\n",
       "      <th>address</th>\n",
       "      <th>propertyType</th>\n",
       "      <th>bedrooms</th>\n",
       "      <th>images</th>\n",
       "      <th>hasFloorPlan</th>\n",
       "      <th>detailUrl</th>\n",
       "      <th>latitude</th>\n",
       "      <th>longitude</th>\n",
       "    </tr>\n",
       "  </thead>\n",
       "  <tbody>\n",
       "    <tr>\n",
       "      <th>0</th>\n",
       "      <td>£720,050</td>\n",
       "      <td>17 Dec 2021</td>\n",
       "      <td>Freehold</td>\n",
       "      <td>False</td>\n",
       "      <td>11, Whitney Road, London, Greater London E10 7HG</td>\n",
       "      <td>Terraced</td>\n",
       "      <td>3.0</td>\n",
       "      <td>https://media.rightmove.co.uk/dir/66k/65394/10...</td>\n",
       "      <td>True</td>\n",
       "      <td>https://www.rightmove.co.uk/house-prices/detai...</td>\n",
       "      <td>51.57167</td>\n",
       "      <td>-0.01677</td>\n",
       "    </tr>\n",
       "    <tr>\n",
       "      <th>1</th>\n",
       "      <td>£445,000</td>\n",
       "      <td>12 Aug 2015</td>\n",
       "      <td>Freehold</td>\n",
       "      <td>False</td>\n",
       "      <td>11, Whitney Road, London, Greater London E10 7HG</td>\n",
       "      <td>Terraced</td>\n",
       "      <td>3.0</td>\n",
       "      <td>https://media.rightmove.co.uk/dir/66k/65394/10...</td>\n",
       "      <td>True</td>\n",
       "      <td>https://www.rightmove.co.uk/house-prices/detai...</td>\n",
       "      <td>51.57167</td>\n",
       "      <td>-0.01677</td>\n",
       "    </tr>\n",
       "    <tr>\n",
       "      <th>2</th>\n",
       "      <td>£643,756</td>\n",
       "      <td>9 Dec 2021</td>\n",
       "      <td>Freehold</td>\n",
       "      <td>False</td>\n",
       "      <td>82, Manor Road, Leyton, London, Greater London...</td>\n",
       "      <td>Terraced</td>\n",
       "      <td>4.0</td>\n",
       "      <td>https://media.rightmove.co.uk/dir/71k/70202/11...</td>\n",
       "      <td>True</td>\n",
       "      <td>https://www.rightmove.co.uk/house-prices/detai...</td>\n",
       "      <td>51.57082</td>\n",
       "      <td>-0.01955</td>\n",
       "    </tr>\n",
       "    <tr>\n",
       "      <th>3</th>\n",
       "      <td>£355,000</td>\n",
       "      <td>7 Sep 2007</td>\n",
       "      <td>Freehold</td>\n",
       "      <td>False</td>\n",
       "      <td>82, Manor Road, Leyton, London, Greater London...</td>\n",
       "      <td>Terraced</td>\n",
       "      <td>4.0</td>\n",
       "      <td>https://media.rightmove.co.uk/dir/71k/70202/11...</td>\n",
       "      <td>True</td>\n",
       "      <td>https://www.rightmove.co.uk/house-prices/detai...</td>\n",
       "      <td>51.57082</td>\n",
       "      <td>-0.01955</td>\n",
       "    </tr>\n",
       "    <tr>\n",
       "      <th>4</th>\n",
       "      <td>£220,000</td>\n",
       "      <td>23 Mar 2006</td>\n",
       "      <td>Freehold</td>\n",
       "      <td>False</td>\n",
       "      <td>82, Manor Road, Leyton, London, Greater London...</td>\n",
       "      <td>Terraced</td>\n",
       "      <td>4.0</td>\n",
       "      <td>https://media.rightmove.co.uk/dir/71k/70202/11...</td>\n",
       "      <td>True</td>\n",
       "      <td>https://www.rightmove.co.uk/house-prices/detai...</td>\n",
       "      <td>51.57082</td>\n",
       "      <td>-0.01955</td>\n",
       "    </tr>\n",
       "  </tbody>\n",
       "</table>\n",
       "</div>"
      ],
      "text/plain": [
       "  displayPrice     dateSold    tenure  newBuild  \\\n",
       "0     £720,050  17 Dec 2021  Freehold     False   \n",
       "1     £445,000  12 Aug 2015  Freehold     False   \n",
       "2     £643,756   9 Dec 2021  Freehold     False   \n",
       "3     £355,000   7 Sep 2007  Freehold     False   \n",
       "4     £220,000  23 Mar 2006  Freehold     False   \n",
       "\n",
       "                                             address propertyType  bedrooms  \\\n",
       "0   11, Whitney Road, London, Greater London E10 7HG     Terraced       3.0   \n",
       "1   11, Whitney Road, London, Greater London E10 7HG     Terraced       3.0   \n",
       "2  82, Manor Road, Leyton, London, Greater London...     Terraced       4.0   \n",
       "3  82, Manor Road, Leyton, London, Greater London...     Terraced       4.0   \n",
       "4  82, Manor Road, Leyton, London, Greater London...     Terraced       4.0   \n",
       "\n",
       "                                              images  hasFloorPlan  \\\n",
       "0  https://media.rightmove.co.uk/dir/66k/65394/10...          True   \n",
       "1  https://media.rightmove.co.uk/dir/66k/65394/10...          True   \n",
       "2  https://media.rightmove.co.uk/dir/71k/70202/11...          True   \n",
       "3  https://media.rightmove.co.uk/dir/71k/70202/11...          True   \n",
       "4  https://media.rightmove.co.uk/dir/71k/70202/11...          True   \n",
       "\n",
       "                                           detailUrl  latitude  longitude  \n",
       "0  https://www.rightmove.co.uk/house-prices/detai...  51.57167   -0.01677  \n",
       "1  https://www.rightmove.co.uk/house-prices/detai...  51.57167   -0.01677  \n",
       "2  https://www.rightmove.co.uk/house-prices/detai...  51.57082   -0.01955  \n",
       "3  https://www.rightmove.co.uk/house-prices/detai...  51.57082   -0.01955  \n",
       "4  https://www.rightmove.co.uk/house-prices/detai...  51.57082   -0.01955  "
      ]
     },
     "execution_count": 2,
     "metadata": {},
     "output_type": "execute_result"
    }
   ],
   "source": [
    "df = pd.read_csv('Property df',index_col=0)\n",
    "df.head()"
   ]
  },
  {
   "cell_type": "code",
   "execution_count": 3,
   "metadata": {},
   "outputs": [
    {
     "name": "stdout",
     "output_type": "stream",
     "text": [
      "<class 'pandas.core.frame.DataFrame'>\n",
      "Int64Index: 2278 entries, 0 to 2277\n",
      "Data columns (total 12 columns):\n",
      " #   Column        Non-Null Count  Dtype  \n",
      "---  ------        --------------  -----  \n",
      " 0   displayPrice  2278 non-null   object \n",
      " 1   dateSold      2278 non-null   object \n",
      " 2   tenure        2278 non-null   object \n",
      " 3   newBuild      2278 non-null   bool   \n",
      " 4   address       2278 non-null   object \n",
      " 5   propertyType  2278 non-null   object \n",
      " 6   bedrooms      1588 non-null   float64\n",
      " 7   images        2278 non-null   object \n",
      " 8   hasFloorPlan  2278 non-null   bool   \n",
      " 9   detailUrl     1588 non-null   object \n",
      " 10  latitude      2278 non-null   float64\n",
      " 11  longitude     2278 non-null   float64\n",
      "dtypes: bool(2), float64(3), object(7)\n",
      "memory usage: 200.2+ KB\n"
     ]
    }
   ],
   "source": [
    "df.info()"
   ]
  },
  {
   "cell_type": "markdown",
   "metadata": {},
   "source": [
    "# Cleaning the Data\n",
    "\n",
    "To make certain columns usable I will need to correct data types and also handle missing values. I will also remove unnecessary columns that are unnecessary in the analysis. But first, I will rename the columns"
   ]
  },
  {
   "cell_type": "code",
   "execution_count": 4,
   "metadata": {},
   "outputs": [],
   "source": [
    "rename_columns = ['Price','Date_Sold','Tenure_Type','New_Build','Address','Property_Type','Num_Bedrooms','Image_URL','Floorplan','URL','Latitude','Longitude']\n",
    "\n",
    "df.columns = rename_columns"
   ]
  },
  {
   "cell_type": "markdown",
   "metadata": {},
   "source": [
    "Removing the unnecessary columns: 'Image_URL' & 'URL'"
   ]
  },
  {
   "cell_type": "code",
   "execution_count": 5,
   "metadata": {},
   "outputs": [],
   "source": [
    "df.drop(['Image_URL','URL'],axis=1,inplace=True)"
   ]
  },
  {
   "cell_type": "markdown",
   "metadata": {},
   "source": [
    "I need to manipulate 'Price' and convert into an integer by removing the £ sign and comma and converting result into int"
   ]
  },
  {
   "cell_type": "code",
   "execution_count": 6,
   "metadata": {},
   "outputs": [],
   "source": [
    "df['Price'] = df['Price'].str.replace(',','')\n",
    "df['Price'] = df['Price'].str.replace('£','')\n",
    "df['Price'] = df['Price'].astype(int)"
   ]
  },
  {
   "cell_type": "code",
   "execution_count": 7,
   "metadata": {},
   "outputs": [
    {
     "data": {
      "text/plain": [
       "numpy.int64"
      ]
     },
     "execution_count": 7,
     "metadata": {},
     "output_type": "execute_result"
    }
   ],
   "source": [
    "type(df['Price'][0])"
   ]
  },
  {
   "cell_type": "markdown",
   "metadata": {},
   "source": [
    "I want to now seperate 'Address' to two variables that are more useful to me: 'Post_Code' & 'Road_Name'"
   ]
  },
  {
   "cell_type": "code",
   "execution_count": 8,
   "metadata": {},
   "outputs": [
    {
     "data": {
      "text/html": [
       "<div>\n",
       "<style scoped>\n",
       "    .dataframe tbody tr th:only-of-type {\n",
       "        vertical-align: middle;\n",
       "    }\n",
       "\n",
       "    .dataframe tbody tr th {\n",
       "        vertical-align: top;\n",
       "    }\n",
       "\n",
       "    .dataframe thead th {\n",
       "        text-align: right;\n",
       "    }\n",
       "</style>\n",
       "<table border=\"1\" class=\"dataframe\">\n",
       "  <thead>\n",
       "    <tr style=\"text-align: right;\">\n",
       "      <th></th>\n",
       "      <th>Price</th>\n",
       "      <th>Date_Sold</th>\n",
       "      <th>Tenure_Type</th>\n",
       "      <th>New_Build</th>\n",
       "      <th>Address</th>\n",
       "      <th>Property_Type</th>\n",
       "      <th>Num_Bedrooms</th>\n",
       "      <th>Floorplan</th>\n",
       "      <th>Latitude</th>\n",
       "      <th>Longitude</th>\n",
       "      <th>Post_Code</th>\n",
       "      <th>Road_Name</th>\n",
       "    </tr>\n",
       "  </thead>\n",
       "  <tbody>\n",
       "    <tr>\n",
       "      <th>0</th>\n",
       "      <td>720050</td>\n",
       "      <td>17 Dec 2021</td>\n",
       "      <td>Freehold</td>\n",
       "      <td>False</td>\n",
       "      <td>11, Whitney Road, London, Greater London E10 7HG</td>\n",
       "      <td>Terraced</td>\n",
       "      <td>3.0</td>\n",
       "      <td>True</td>\n",
       "      <td>51.57167</td>\n",
       "      <td>-0.01677</td>\n",
       "      <td>E10 7HG</td>\n",
       "      <td>Whitney Road</td>\n",
       "    </tr>\n",
       "    <tr>\n",
       "      <th>1</th>\n",
       "      <td>445000</td>\n",
       "      <td>12 Aug 2015</td>\n",
       "      <td>Freehold</td>\n",
       "      <td>False</td>\n",
       "      <td>11, Whitney Road, London, Greater London E10 7HG</td>\n",
       "      <td>Terraced</td>\n",
       "      <td>3.0</td>\n",
       "      <td>True</td>\n",
       "      <td>51.57167</td>\n",
       "      <td>-0.01677</td>\n",
       "      <td>E10 7HG</td>\n",
       "      <td>Whitney Road</td>\n",
       "    </tr>\n",
       "    <tr>\n",
       "      <th>2</th>\n",
       "      <td>643756</td>\n",
       "      <td>9 Dec 2021</td>\n",
       "      <td>Freehold</td>\n",
       "      <td>False</td>\n",
       "      <td>82, Manor Road, Leyton, London, Greater London...</td>\n",
       "      <td>Terraced</td>\n",
       "      <td>4.0</td>\n",
       "      <td>True</td>\n",
       "      <td>51.57082</td>\n",
       "      <td>-0.01955</td>\n",
       "      <td>E10 7HN</td>\n",
       "      <td>Manor Road</td>\n",
       "    </tr>\n",
       "    <tr>\n",
       "      <th>3</th>\n",
       "      <td>355000</td>\n",
       "      <td>7 Sep 2007</td>\n",
       "      <td>Freehold</td>\n",
       "      <td>False</td>\n",
       "      <td>82, Manor Road, Leyton, London, Greater London...</td>\n",
       "      <td>Terraced</td>\n",
       "      <td>4.0</td>\n",
       "      <td>True</td>\n",
       "      <td>51.57082</td>\n",
       "      <td>-0.01955</td>\n",
       "      <td>E10 7HN</td>\n",
       "      <td>Manor Road</td>\n",
       "    </tr>\n",
       "    <tr>\n",
       "      <th>4</th>\n",
       "      <td>220000</td>\n",
       "      <td>23 Mar 2006</td>\n",
       "      <td>Freehold</td>\n",
       "      <td>False</td>\n",
       "      <td>82, Manor Road, Leyton, London, Greater London...</td>\n",
       "      <td>Terraced</td>\n",
       "      <td>4.0</td>\n",
       "      <td>True</td>\n",
       "      <td>51.57082</td>\n",
       "      <td>-0.01955</td>\n",
       "      <td>E10 7HN</td>\n",
       "      <td>Manor Road</td>\n",
       "    </tr>\n",
       "  </tbody>\n",
       "</table>\n",
       "</div>"
      ],
      "text/plain": [
       "    Price    Date_Sold Tenure_Type  New_Build  \\\n",
       "0  720050  17 Dec 2021    Freehold      False   \n",
       "1  445000  12 Aug 2015    Freehold      False   \n",
       "2  643756   9 Dec 2021    Freehold      False   \n",
       "3  355000   7 Sep 2007    Freehold      False   \n",
       "4  220000  23 Mar 2006    Freehold      False   \n",
       "\n",
       "                                             Address Property_Type  \\\n",
       "0   11, Whitney Road, London, Greater London E10 7HG      Terraced   \n",
       "1   11, Whitney Road, London, Greater London E10 7HG      Terraced   \n",
       "2  82, Manor Road, Leyton, London, Greater London...      Terraced   \n",
       "3  82, Manor Road, Leyton, London, Greater London...      Terraced   \n",
       "4  82, Manor Road, Leyton, London, Greater London...      Terraced   \n",
       "\n",
       "   Num_Bedrooms  Floorplan  Latitude  Longitude Post_Code      Road_Name  \n",
       "0           3.0       True  51.57167   -0.01677   E10 7HG   Whitney Road  \n",
       "1           3.0       True  51.57167   -0.01677   E10 7HG   Whitney Road  \n",
       "2           4.0       True  51.57082   -0.01955   E10 7HN     Manor Road  \n",
       "3           4.0       True  51.57082   -0.01955   E10 7HN     Manor Road  \n",
       "4           4.0       True  51.57082   -0.01955   E10 7HN     Manor Road  "
      ]
     },
     "execution_count": 8,
     "metadata": {},
     "output_type": "execute_result"
    }
   ],
   "source": [
    "df['Post_Code'] = df['Address'].apply(lambda x: x[-7:])\n",
    "df['Road_Name'] = df['Address'].apply(lambda x: x.split(',')[1])\n",
    "df.head()"
   ]
  },
  {
   "cell_type": "markdown",
   "metadata": {},
   "source": [
    "I also want to analyse properties by year sold so I will convert 'Date_Sold' to 'Year_Sold'"
   ]
  },
  {
   "cell_type": "code",
   "execution_count": 9,
   "metadata": {},
   "outputs": [
    {
     "data": {
      "text/html": [
       "<div>\n",
       "<style scoped>\n",
       "    .dataframe tbody tr th:only-of-type {\n",
       "        vertical-align: middle;\n",
       "    }\n",
       "\n",
       "    .dataframe tbody tr th {\n",
       "        vertical-align: top;\n",
       "    }\n",
       "\n",
       "    .dataframe thead th {\n",
       "        text-align: right;\n",
       "    }\n",
       "</style>\n",
       "<table border=\"1\" class=\"dataframe\">\n",
       "  <thead>\n",
       "    <tr style=\"text-align: right;\">\n",
       "      <th></th>\n",
       "      <th>Price</th>\n",
       "      <th>Date_Sold</th>\n",
       "      <th>Tenure_Type</th>\n",
       "      <th>New_Build</th>\n",
       "      <th>Address</th>\n",
       "      <th>Property_Type</th>\n",
       "      <th>Num_Bedrooms</th>\n",
       "      <th>Floorplan</th>\n",
       "      <th>Latitude</th>\n",
       "      <th>Longitude</th>\n",
       "      <th>Post_Code</th>\n",
       "      <th>Road_Name</th>\n",
       "      <th>Year_Sold</th>\n",
       "    </tr>\n",
       "  </thead>\n",
       "  <tbody>\n",
       "    <tr>\n",
       "      <th>0</th>\n",
       "      <td>720050</td>\n",
       "      <td>17 Dec 2021</td>\n",
       "      <td>Freehold</td>\n",
       "      <td>False</td>\n",
       "      <td>11, Whitney Road, London, Greater London E10 7HG</td>\n",
       "      <td>Terraced</td>\n",
       "      <td>3.0</td>\n",
       "      <td>True</td>\n",
       "      <td>51.57167</td>\n",
       "      <td>-0.01677</td>\n",
       "      <td>E10 7HG</td>\n",
       "      <td>Whitney Road</td>\n",
       "      <td>2021</td>\n",
       "    </tr>\n",
       "    <tr>\n",
       "      <th>1</th>\n",
       "      <td>445000</td>\n",
       "      <td>12 Aug 2015</td>\n",
       "      <td>Freehold</td>\n",
       "      <td>False</td>\n",
       "      <td>11, Whitney Road, London, Greater London E10 7HG</td>\n",
       "      <td>Terraced</td>\n",
       "      <td>3.0</td>\n",
       "      <td>True</td>\n",
       "      <td>51.57167</td>\n",
       "      <td>-0.01677</td>\n",
       "      <td>E10 7HG</td>\n",
       "      <td>Whitney Road</td>\n",
       "      <td>2015</td>\n",
       "    </tr>\n",
       "    <tr>\n",
       "      <th>2</th>\n",
       "      <td>643756</td>\n",
       "      <td>9 Dec 2021</td>\n",
       "      <td>Freehold</td>\n",
       "      <td>False</td>\n",
       "      <td>82, Manor Road, Leyton, London, Greater London...</td>\n",
       "      <td>Terraced</td>\n",
       "      <td>4.0</td>\n",
       "      <td>True</td>\n",
       "      <td>51.57082</td>\n",
       "      <td>-0.01955</td>\n",
       "      <td>E10 7HN</td>\n",
       "      <td>Manor Road</td>\n",
       "      <td>2021</td>\n",
       "    </tr>\n",
       "    <tr>\n",
       "      <th>3</th>\n",
       "      <td>355000</td>\n",
       "      <td>7 Sep 2007</td>\n",
       "      <td>Freehold</td>\n",
       "      <td>False</td>\n",
       "      <td>82, Manor Road, Leyton, London, Greater London...</td>\n",
       "      <td>Terraced</td>\n",
       "      <td>4.0</td>\n",
       "      <td>True</td>\n",
       "      <td>51.57082</td>\n",
       "      <td>-0.01955</td>\n",
       "      <td>E10 7HN</td>\n",
       "      <td>Manor Road</td>\n",
       "      <td>2007</td>\n",
       "    </tr>\n",
       "    <tr>\n",
       "      <th>4</th>\n",
       "      <td>220000</td>\n",
       "      <td>23 Mar 2006</td>\n",
       "      <td>Freehold</td>\n",
       "      <td>False</td>\n",
       "      <td>82, Manor Road, Leyton, London, Greater London...</td>\n",
       "      <td>Terraced</td>\n",
       "      <td>4.0</td>\n",
       "      <td>True</td>\n",
       "      <td>51.57082</td>\n",
       "      <td>-0.01955</td>\n",
       "      <td>E10 7HN</td>\n",
       "      <td>Manor Road</td>\n",
       "      <td>2006</td>\n",
       "    </tr>\n",
       "  </tbody>\n",
       "</table>\n",
       "</div>"
      ],
      "text/plain": [
       "    Price    Date_Sold Tenure_Type  New_Build  \\\n",
       "0  720050  17 Dec 2021    Freehold      False   \n",
       "1  445000  12 Aug 2015    Freehold      False   \n",
       "2  643756   9 Dec 2021    Freehold      False   \n",
       "3  355000   7 Sep 2007    Freehold      False   \n",
       "4  220000  23 Mar 2006    Freehold      False   \n",
       "\n",
       "                                             Address Property_Type  \\\n",
       "0   11, Whitney Road, London, Greater London E10 7HG      Terraced   \n",
       "1   11, Whitney Road, London, Greater London E10 7HG      Terraced   \n",
       "2  82, Manor Road, Leyton, London, Greater London...      Terraced   \n",
       "3  82, Manor Road, Leyton, London, Greater London...      Terraced   \n",
       "4  82, Manor Road, Leyton, London, Greater London...      Terraced   \n",
       "\n",
       "   Num_Bedrooms  Floorplan  Latitude  Longitude Post_Code      Road_Name  \\\n",
       "0           3.0       True  51.57167   -0.01677   E10 7HG   Whitney Road   \n",
       "1           3.0       True  51.57167   -0.01677   E10 7HG   Whitney Road   \n",
       "2           4.0       True  51.57082   -0.01955   E10 7HN     Manor Road   \n",
       "3           4.0       True  51.57082   -0.01955   E10 7HN     Manor Road   \n",
       "4           4.0       True  51.57082   -0.01955   E10 7HN     Manor Road   \n",
       "\n",
       "  Year_Sold  \n",
       "0      2021  \n",
       "1      2015  \n",
       "2      2021  \n",
       "3      2007  \n",
       "4      2006  "
      ]
     },
     "execution_count": 9,
     "metadata": {},
     "output_type": "execute_result"
    }
   ],
   "source": [
    "df['Year_Sold'] = df['Date_Sold'].apply(lambda x: x[-4:])\n",
    "df['Year_Sold'] =df['Year_Sold'].astype(object)\n",
    "df.head()"
   ]
  },
  {
   "cell_type": "code",
   "execution_count": 56,
   "metadata": {},
   "outputs": [],
   "source": [
    "categorical_columns = ['Tenure_Type','Property_Type','New_Build','Floorplan']\n",
    "df[categorical_columns] = df[categorical_columns].astype(object)"
   ]
  },
  {
   "cell_type": "markdown",
   "metadata": {},
   "source": [
    "Looking through the frequency of the values in categorical features"
   ]
  },
  {
   "cell_type": "code",
   "execution_count": 61,
   "metadata": {},
   "outputs": [
    {
     "data": {
      "image/png": "[encoded data removed]",
      "text/plain": [
       "<Figure size 1152x1008 with 4 Axes>"
      ]
     },
     "metadata": {
      "needs_background": "light"
     },
     "output_type": "display_data"
    }
   ],
   "source": [
    "fig, axes = plt.subplots(2,2,figsize=(16,14), sharey=True)\n",
    "\n",
    "for column, ax in zip(categorical_columns,axes.ravel()):\n",
    "    sns.countplot(x=column,data=df.drop_duplicates(subset=['Address']),ax=ax)\n",
    "\n",
    "    ax.set_ylabel('Number of Properties')\n",
    "\n",
    "\n",
    "\n",
    "plt.tight_layout()"
   ]
  },
  {
   "cell_type": "markdown",
   "metadata": {},
   "source": [
    "Renaming labels for some categories"
   ]
  },
  {
   "cell_type": "code",
   "execution_count": 62,
   "metadata": {},
   "outputs": [],
   "source": [
    "df['New_Build'].replace({'False':'No','True':'Yes'},inplace=True)\n",
    "\n",
    "df['Floorplan'].replace({'False':'No','True':'Yes'},inplace=True)"
   ]
  },
  {
   "cell_type": "markdown",
   "metadata": {},
   "source": [
    "Checking for any missing values"
   ]
  },
  {
   "cell_type": "code",
   "execution_count": 63,
   "metadata": {},
   "outputs": [
    {
     "data": {
      "text/plain": [
       "Price              0\n",
       "Date_Sold          0\n",
       "Tenure_Type        0\n",
       "New_Build          0\n",
       "Address            0\n",
       "Property_Type      0\n",
       "Num_Bedrooms     690\n",
       "Floorplan          0\n",
       "Latitude           0\n",
       "Longitude          0\n",
       "Post_Code          0\n",
       "Road_Name          0\n",
       "Year_Sold          0\n",
       "dtype: int64"
      ]
     },
     "execution_count": 63,
     "metadata": {},
     "output_type": "execute_result"
    }
   ],
   "source": [
    "df.isnull().sum()"
   ]
  },
  {
   "cell_type": "code",
   "execution_count": null,
   "metadata": {},
   "outputs": [],
   "source": []
  }
 ],
 "metadata": {
  "interpreter": {
   "hash": "1f36ee939a033d3d6cfca871ce038ba922a52cd3660989e49a726b52982cb60c"
  },
  "kernelspec": {
   "display_name": "Python 3.9.7 ('base')",
   "language": "python",
   "name": "python3"
  },
  "language_info": {
   "codemirror_mode": {
    "name": "ipython",
    "version": 3
   },
   "file_extension": ".py",
   "mimetype": "text/x-python",
   "name": "python",
   "nbconvert_exporter": "python",
   "pygments_lexer": "ipython3",
   "version": "3.9.7"
  },
  "orig_nbformat": 4
 },
 "nbformat": 4,
 "nbformat_minor": 2
}
