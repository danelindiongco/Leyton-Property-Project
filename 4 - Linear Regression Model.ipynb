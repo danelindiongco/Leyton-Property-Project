{
 "cells": [
  {
   "cell_type": "code",
   "execution_count": 1,
   "metadata": {},
   "outputs": [],
   "source": [
    "import pandas as pd\n",
    "import numpy as np\n",
    "import matplotlib.pyplot as plt\n",
    "import seaborn as sns\n",
    "%matplotlib inline"
   ]
  },
  {
   "cell_type": "code",
   "execution_count": 2,
   "metadata": {},
   "outputs": [
    {
     "data": {
      "text/html": [
       "<div>\n",
       "<style scoped>\n",
       "    .dataframe tbody tr th:only-of-type {\n",
       "        vertical-align: middle;\n",
       "    }\n",
       "\n",
       "    .dataframe tbody tr th {\n",
       "        vertical-align: top;\n",
       "    }\n",
       "\n",
       "    .dataframe thead th {\n",
       "        text-align: right;\n",
       "    }\n",
       "</style>\n",
       "<table border=\"1\" class=\"dataframe\">\n",
       "  <thead>\n",
       "    <tr style=\"text-align: right;\">\n",
       "      <th></th>\n",
       "      <th>Price</th>\n",
       "      <th>Date_Sold</th>\n",
       "      <th>Tenure_Type</th>\n",
       "      <th>New_Build</th>\n",
       "      <th>Address</th>\n",
       "      <th>Property_Type</th>\n",
       "      <th>Num_Bedrooms</th>\n",
       "      <th>Floorplan</th>\n",
       "      <th>Latitude</th>\n",
       "      <th>Longitude</th>\n",
       "      <th>Post_Code</th>\n",
       "      <th>Road_Name</th>\n",
       "      <th>Year_Sold</th>\n",
       "    </tr>\n",
       "  </thead>\n",
       "  <tbody>\n",
       "    <tr>\n",
       "      <th>0</th>\n",
       "      <td>720050</td>\n",
       "      <td>17 Dec 2021</td>\n",
       "      <td>Freehold</td>\n",
       "      <td>False</td>\n",
       "      <td>11, Whitney Road, London, Greater London E10 7HG</td>\n",
       "      <td>Terraced</td>\n",
       "      <td>3.0</td>\n",
       "      <td>True</td>\n",
       "      <td>51.57167</td>\n",
       "      <td>-0.01677</td>\n",
       "      <td>E10 7HG</td>\n",
       "      <td>Whitney Road</td>\n",
       "      <td>2021</td>\n",
       "    </tr>\n",
       "    <tr>\n",
       "      <th>1</th>\n",
       "      <td>445000</td>\n",
       "      <td>12 Aug 2015</td>\n",
       "      <td>Freehold</td>\n",
       "      <td>False</td>\n",
       "      <td>11, Whitney Road, London, Greater London E10 7HG</td>\n",
       "      <td>Terraced</td>\n",
       "      <td>3.0</td>\n",
       "      <td>True</td>\n",
       "      <td>51.57167</td>\n",
       "      <td>-0.01677</td>\n",
       "      <td>E10 7HG</td>\n",
       "      <td>Whitney Road</td>\n",
       "      <td>2015</td>\n",
       "    </tr>\n",
       "    <tr>\n",
       "      <th>2</th>\n",
       "      <td>643756</td>\n",
       "      <td>9 Dec 2021</td>\n",
       "      <td>Freehold</td>\n",
       "      <td>False</td>\n",
       "      <td>82, Manor Road, Leyton, London, Greater London...</td>\n",
       "      <td>Terraced</td>\n",
       "      <td>4.0</td>\n",
       "      <td>True</td>\n",
       "      <td>51.57082</td>\n",
       "      <td>-0.01955</td>\n",
       "      <td>E10 7HN</td>\n",
       "      <td>Manor Road</td>\n",
       "      <td>2021</td>\n",
       "    </tr>\n",
       "    <tr>\n",
       "      <th>3</th>\n",
       "      <td>355000</td>\n",
       "      <td>7 Sep 2007</td>\n",
       "      <td>Freehold</td>\n",
       "      <td>False</td>\n",
       "      <td>82, Manor Road, Leyton, London, Greater London...</td>\n",
       "      <td>Terraced</td>\n",
       "      <td>4.0</td>\n",
       "      <td>True</td>\n",
       "      <td>51.57082</td>\n",
       "      <td>-0.01955</td>\n",
       "      <td>E10 7HN</td>\n",
       "      <td>Manor Road</td>\n",
       "      <td>2007</td>\n",
       "    </tr>\n",
       "    <tr>\n",
       "      <th>4</th>\n",
       "      <td>220000</td>\n",
       "      <td>23 Mar 2006</td>\n",
       "      <td>Freehold</td>\n",
       "      <td>False</td>\n",
       "      <td>82, Manor Road, Leyton, London, Greater London...</td>\n",
       "      <td>Terraced</td>\n",
       "      <td>4.0</td>\n",
       "      <td>True</td>\n",
       "      <td>51.57082</td>\n",
       "      <td>-0.01955</td>\n",
       "      <td>E10 7HN</td>\n",
       "      <td>Manor Road</td>\n",
       "      <td>2006</td>\n",
       "    </tr>\n",
       "  </tbody>\n",
       "</table>\n",
       "</div>"
      ],
      "text/plain": [
       "    Price    Date_Sold Tenure_Type  New_Build  \\\n",
       "0  720050  17 Dec 2021    Freehold      False   \n",
       "1  445000  12 Aug 2015    Freehold      False   \n",
       "2  643756   9 Dec 2021    Freehold      False   \n",
       "3  355000   7 Sep 2007    Freehold      False   \n",
       "4  220000  23 Mar 2006    Freehold      False   \n",
       "\n",
       "                                             Address Property_Type  \\\n",
       "0   11, Whitney Road, London, Greater London E10 7HG      Terraced   \n",
       "1   11, Whitney Road, London, Greater London E10 7HG      Terraced   \n",
       "2  82, Manor Road, Leyton, London, Greater London...      Terraced   \n",
       "3  82, Manor Road, Leyton, London, Greater London...      Terraced   \n",
       "4  82, Manor Road, Leyton, London, Greater London...      Terraced   \n",
       "\n",
       "   Num_Bedrooms  Floorplan  Latitude  Longitude Post_Code      Road_Name  \\\n",
       "0           3.0       True  51.57167   -0.01677   E10 7HG   Whitney Road   \n",
       "1           3.0       True  51.57167   -0.01677   E10 7HG   Whitney Road   \n",
       "2           4.0       True  51.57082   -0.01955   E10 7HN     Manor Road   \n",
       "3           4.0       True  51.57082   -0.01955   E10 7HN     Manor Road   \n",
       "4           4.0       True  51.57082   -0.01955   E10 7HN     Manor Road   \n",
       "\n",
       "   Year_Sold  \n",
       "0       2021  \n",
       "1       2015  \n",
       "2       2021  \n",
       "3       2007  \n",
       "4       2006  "
      ]
     },
     "execution_count": 2,
     "metadata": {},
     "output_type": "execute_result"
    }
   ],
   "source": [
    "df = pd.read_csv('Processed Property Data.csv')\n",
    "df.head()"
   ]
  },
  {
   "cell_type": "code",
   "execution_count": 3,
   "metadata": {},
   "outputs": [],
   "source": [
    "df.drop('Address',axis=1,inplace=True)"
   ]
  },
  {
   "cell_type": "code",
   "execution_count": 4,
   "metadata": {},
   "outputs": [],
   "source": [
    "df = df[df['Year_Sold']>2017]"
   ]
  },
  {
   "cell_type": "markdown",
   "metadata": {},
   "source": [
    "After testing of results with different combinations of features, the features below have been removed for optimisation of model performance."
   ]
  },
  {
   "cell_type": "code",
   "execution_count": 5,
   "metadata": {},
   "outputs": [
    {
     "data": {
      "text/html": [
       "<div>\n",
       "<style scoped>\n",
       "    .dataframe tbody tr th:only-of-type {\n",
       "        vertical-align: middle;\n",
       "    }\n",
       "\n",
       "    .dataframe tbody tr th {\n",
       "        vertical-align: top;\n",
       "    }\n",
       "\n",
       "    .dataframe thead th {\n",
       "        text-align: right;\n",
       "    }\n",
       "</style>\n",
       "<table border=\"1\" class=\"dataframe\">\n",
       "  <thead>\n",
       "    <tr style=\"text-align: right;\">\n",
       "      <th></th>\n",
       "      <th>Price</th>\n",
       "      <th>Tenure_Type</th>\n",
       "      <th>Property_Type</th>\n",
       "      <th>Num_Bedrooms</th>\n",
       "      <th>Year_Sold</th>\n",
       "    </tr>\n",
       "  </thead>\n",
       "  <tbody>\n",
       "    <tr>\n",
       "      <th>0</th>\n",
       "      <td>720050</td>\n",
       "      <td>Freehold</td>\n",
       "      <td>Terraced</td>\n",
       "      <td>3.0</td>\n",
       "      <td>2021</td>\n",
       "    </tr>\n",
       "    <tr>\n",
       "      <th>2</th>\n",
       "      <td>643756</td>\n",
       "      <td>Freehold</td>\n",
       "      <td>Terraced</td>\n",
       "      <td>4.0</td>\n",
       "      <td>2021</td>\n",
       "    </tr>\n",
       "    <tr>\n",
       "      <th>5</th>\n",
       "      <td>504000</td>\n",
       "      <td>Leasehold</td>\n",
       "      <td>Flat</td>\n",
       "      <td>2.0</td>\n",
       "      <td>2021</td>\n",
       "    </tr>\n",
       "    <tr>\n",
       "      <th>7</th>\n",
       "      <td>714000</td>\n",
       "      <td>Freehold</td>\n",
       "      <td>Terraced</td>\n",
       "      <td>3.0</td>\n",
       "      <td>2021</td>\n",
       "    </tr>\n",
       "    <tr>\n",
       "      <th>12</th>\n",
       "      <td>540000</td>\n",
       "      <td>Leasehold</td>\n",
       "      <td>Flat</td>\n",
       "      <td>3.0</td>\n",
       "      <td>2021</td>\n",
       "    </tr>\n",
       "  </tbody>\n",
       "</table>\n",
       "</div>"
      ],
      "text/plain": [
       "     Price Tenure_Type Property_Type  Num_Bedrooms  Year_Sold\n",
       "0   720050    Freehold      Terraced           3.0       2021\n",
       "2   643756    Freehold      Terraced           4.0       2021\n",
       "5   504000   Leasehold          Flat           2.0       2021\n",
       "7   714000    Freehold      Terraced           3.0       2021\n",
       "12  540000   Leasehold          Flat           3.0       2021"
      ]
     },
     "execution_count": 5,
     "metadata": {},
     "output_type": "execute_result"
    }
   ],
   "source": [
    "df.drop(['Date_Sold','Floorplan','Road_Name','Post_Code','New_Build','Latitude','Longitude'],axis=1,inplace=True)\n",
    "df.head()"
   ]
  },
  {
   "cell_type": "code",
   "execution_count": 6,
   "metadata": {},
   "outputs": [
    {
     "name": "stdout",
     "output_type": "stream",
     "text": [
      "<class 'pandas.core.frame.DataFrame'>\n",
      "Int64Index: 617 entries, 0 to 1555\n",
      "Data columns (total 5 columns):\n",
      " #   Column         Non-Null Count  Dtype  \n",
      "---  ------         --------------  -----  \n",
      " 0   Price          617 non-null    int64  \n",
      " 1   Tenure_Type    617 non-null    object \n",
      " 2   Property_Type  617 non-null    object \n",
      " 3   Num_Bedrooms   617 non-null    float64\n",
      " 4   Year_Sold      617 non-null    int64  \n",
      "dtypes: float64(1), int64(2), object(2)\n",
      "memory usage: 28.9+ KB\n"
     ]
    }
   ],
   "source": [
    "df.info()"
   ]
  },
  {
   "cell_type": "code",
   "execution_count": 7,
   "metadata": {},
   "outputs": [
    {
     "data": {
      "image/png": "[encoded data removed]",
      "text/plain": [
       "<Figure size 864x504 with 1 Axes>"
      ]
     },
     "metadata": {
      "needs_background": "light"
     },
     "output_type": "display_data"
    }
   ],
   "source": [
    "plt.figure(figsize=(12,7))\n",
    "axis = sns.heatmap(df.isnull(),cbar=False,yticklabels=False)"
   ]
  },
  {
   "cell_type": "markdown",
   "metadata": {},
   "source": [
    "There are no missing values so I will go ahead and train the ML models"
   ]
  },
  {
   "cell_type": "markdown",
   "metadata": {},
   "source": [
    "## Data Preprocessing\n",
    "\n",
    "### Convert Datatypes (Categoric -> Numeric Data)"
   ]
  },
  {
   "cell_type": "markdown",
   "metadata": {},
   "source": [
    "One hot encoding converting categorical features into encoded form of 0 and 1"
   ]
  },
  {
   "cell_type": "code",
   "execution_count": 8,
   "metadata": {},
   "outputs": [
    {
     "data": {
      "text/html": [
       "<div>\n",
       "<style scoped>\n",
       "    .dataframe tbody tr th:only-of-type {\n",
       "        vertical-align: middle;\n",
       "    }\n",
       "\n",
       "    .dataframe tbody tr th {\n",
       "        vertical-align: top;\n",
       "    }\n",
       "\n",
       "    .dataframe thead th {\n",
       "        text-align: right;\n",
       "    }\n",
       "</style>\n",
       "<table border=\"1\" class=\"dataframe\">\n",
       "  <thead>\n",
       "    <tr style=\"text-align: right;\">\n",
       "      <th></th>\n",
       "      <th>Price</th>\n",
       "      <th>Num_Bedrooms</th>\n",
       "      <th>Year_Sold</th>\n",
       "      <th>Tenure_Type_Leasehold</th>\n",
       "      <th>Property_Type_Flat</th>\n",
       "      <th>Property_Type_Semi-Detached</th>\n",
       "      <th>Property_Type_Terraced</th>\n",
       "    </tr>\n",
       "  </thead>\n",
       "  <tbody>\n",
       "    <tr>\n",
       "      <th>0</th>\n",
       "      <td>720050</td>\n",
       "      <td>3.0</td>\n",
       "      <td>2021</td>\n",
       "      <td>0</td>\n",
       "      <td>0</td>\n",
       "      <td>0</td>\n",
       "      <td>1</td>\n",
       "    </tr>\n",
       "    <tr>\n",
       "      <th>2</th>\n",
       "      <td>643756</td>\n",
       "      <td>4.0</td>\n",
       "      <td>2021</td>\n",
       "      <td>0</td>\n",
       "      <td>0</td>\n",
       "      <td>0</td>\n",
       "      <td>1</td>\n",
       "    </tr>\n",
       "    <tr>\n",
       "      <th>5</th>\n",
       "      <td>504000</td>\n",
       "      <td>2.0</td>\n",
       "      <td>2021</td>\n",
       "      <td>1</td>\n",
       "      <td>1</td>\n",
       "      <td>0</td>\n",
       "      <td>0</td>\n",
       "    </tr>\n",
       "    <tr>\n",
       "      <th>7</th>\n",
       "      <td>714000</td>\n",
       "      <td>3.0</td>\n",
       "      <td>2021</td>\n",
       "      <td>0</td>\n",
       "      <td>0</td>\n",
       "      <td>0</td>\n",
       "      <td>1</td>\n",
       "    </tr>\n",
       "    <tr>\n",
       "      <th>12</th>\n",
       "      <td>540000</td>\n",
       "      <td>3.0</td>\n",
       "      <td>2021</td>\n",
       "      <td>1</td>\n",
       "      <td>1</td>\n",
       "      <td>0</td>\n",
       "      <td>0</td>\n",
       "    </tr>\n",
       "  </tbody>\n",
       "</table>\n",
       "</div>"
      ],
      "text/plain": [
       "     Price  Num_Bedrooms  Year_Sold  Tenure_Type_Leasehold  \\\n",
       "0   720050           3.0       2021                      0   \n",
       "2   643756           4.0       2021                      0   \n",
       "5   504000           2.0       2021                      1   \n",
       "7   714000           3.0       2021                      0   \n",
       "12  540000           3.0       2021                      1   \n",
       "\n",
       "    Property_Type_Flat  Property_Type_Semi-Detached  Property_Type_Terraced  \n",
       "0                    0                            0                       1  \n",
       "2                    0                            0                       1  \n",
       "5                    1                            0                       0  \n",
       "7                    0                            0                       1  \n",
       "12                   1                            0                       0  "
      ]
     },
     "execution_count": 8,
     "metadata": {},
     "output_type": "execute_result"
    }
   ],
   "source": [
    "df = pd.get_dummies(df, drop_first = True)\n",
    "df.head()"
   ]
  },
  {
   "cell_type": "markdown",
   "metadata": {},
   "source": [
    "### Train Test Split"
   ]
  },
  {
   "cell_type": "code",
   "execution_count": 9,
   "metadata": {},
   "outputs": [],
   "source": [
    "from sklearn.model_selection import train_test_split"
   ]
  },
  {
   "cell_type": "code",
   "execution_count": 10,
   "metadata": {},
   "outputs": [],
   "source": [
    "X = df.drop('Price',axis=1).copy()\n",
    "y = df['Price']\n",
    "\n",
    "X_train, X_test, y_train, y_test = train_test_split(X,y, test_size=0.2, random_state=3)"
   ]
  },
  {
   "cell_type": "markdown",
   "metadata": {},
   "source": [
    "### Scaling the Data\n",
    "Since it is a regression problem, I will normalise the data. This makes the model more robust and the features will all be in the same axis."
   ]
  },
  {
   "cell_type": "code",
   "execution_count": 14,
   "metadata": {},
   "outputs": [],
   "source": [
    "from sklearn.preprocessing import MinMaxScaler"
   ]
  },
  {
   "cell_type": "code",
   "execution_count": 15,
   "metadata": {},
   "outputs": [],
   "source": [
    "scaler = MinMaxScaler()\n",
    "X_train = scaler.fit_transform(X_train)\n",
    "X_test = scaler.fit_transform(X_test)"
   ]
  },
  {
   "cell_type": "markdown",
   "metadata": {},
   "source": [
    "## Training the Model\n",
    "\n",
    "I will be training a linear regression model and a random forest model optimised by grid search. I will choose the model with the lowest error rate to produce the predictive function.\n",
    "### Training a Linear Regression model"
   ]
  },
  {
   "cell_type": "code",
   "execution_count": 16,
   "metadata": {},
   "outputs": [],
   "source": [
    "from sklearn.linear_model import LinearRegression"
   ]
  },
  {
   "cell_type": "code",
   "execution_count": 17,
   "metadata": {},
   "outputs": [],
   "source": [
    "linear_model = LinearRegression()"
   ]
  },
  {
   "cell_type": "code",
   "execution_count": 18,
   "metadata": {},
   "outputs": [
    {
     "data": {
      "text/plain": [
       "LinearRegression()"
      ]
     },
     "execution_count": 18,
     "metadata": {},
     "output_type": "execute_result"
    }
   ],
   "source": [
    "linear_model.fit(X_train,y_train)"
   ]
  },
  {
   "cell_type": "code",
   "execution_count": 19,
   "metadata": {},
   "outputs": [
    {
     "name": "stdout",
     "output_type": "stream",
     "text": [
      "289082.4942049341\n"
     ]
    }
   ],
   "source": [
    "print(linear_model.intercept_)"
   ]
  },
  {
   "cell_type": "code",
   "execution_count": 20,
   "metadata": {},
   "outputs": [
    {
     "data": {
      "text/html": [
       "<div>\n",
       "<style scoped>\n",
       "    .dataframe tbody tr th:only-of-type {\n",
       "        vertical-align: middle;\n",
       "    }\n",
       "\n",
       "    .dataframe tbody tr th {\n",
       "        vertical-align: top;\n",
       "    }\n",
       "\n",
       "    .dataframe thead th {\n",
       "        text-align: right;\n",
       "    }\n",
       "</style>\n",
       "<table border=\"1\" class=\"dataframe\">\n",
       "  <thead>\n",
       "    <tr style=\"text-align: right;\">\n",
       "      <th></th>\n",
       "      <th>Coefficient</th>\n",
       "    </tr>\n",
       "  </thead>\n",
       "  <tbody>\n",
       "    <tr>\n",
       "      <th>Num_Bedrooms</th>\n",
       "      <td>304505.957085</td>\n",
       "    </tr>\n",
       "    <tr>\n",
       "      <th>Year_Sold</th>\n",
       "      <td>88914.527252</td>\n",
       "    </tr>\n",
       "    <tr>\n",
       "      <th>Tenure_Type_Leasehold</th>\n",
       "      <td>-88515.984867</td>\n",
       "    </tr>\n",
       "    <tr>\n",
       "      <th>Property_Type_Flat</th>\n",
       "      <td>71585.085028</td>\n",
       "    </tr>\n",
       "    <tr>\n",
       "      <th>Property_Type_Semi-Detached</th>\n",
       "      <td>77463.089303</td>\n",
       "    </tr>\n",
       "    <tr>\n",
       "      <th>Property_Type_Terraced</th>\n",
       "      <td>80158.053529</td>\n",
       "    </tr>\n",
       "  </tbody>\n",
       "</table>\n",
       "</div>"
      ],
      "text/plain": [
       "                               Coefficient\n",
       "Num_Bedrooms                 304505.957085\n",
       "Year_Sold                     88914.527252\n",
       "Tenure_Type_Leasehold        -88515.984867\n",
       "Property_Type_Flat            71585.085028\n",
       "Property_Type_Semi-Detached   77463.089303\n",
       "Property_Type_Terraced        80158.053529"
      ]
     },
     "execution_count": 20,
     "metadata": {},
     "output_type": "execute_result"
    }
   ],
   "source": [
    "coeff_df = pd.DataFrame(linear_model.coef_,X.columns,columns=['Coefficient'])\n",
    "coeff_df"
   ]
  },
  {
   "cell_type": "markdown",
   "metadata": {},
   "source": [
    "#### Evaluating the model"
   ]
  },
  {
   "cell_type": "code",
   "execution_count": 21,
   "metadata": {},
   "outputs": [],
   "source": [
    "linear_predictions = linear_model.predict(X_test)"
   ]
  },
  {
   "cell_type": "code",
   "execution_count": 22,
   "metadata": {},
   "outputs": [
    {
     "data": {
      "text/plain": [
       "<AxesSubplot:xlabel='Price'>"
      ]
     },
     "execution_count": 22,
     "metadata": {},
     "output_type": "execute_result"
    },
    {
     "data": {
      "image/png": "[encoded data removed]",
      "text/plain": [
       "<Figure size 864x504 with 1 Axes>"
      ]
     },
     "metadata": {
      "needs_background": "light"
     },
     "output_type": "display_data"
    }
   ],
   "source": [
    "plt.figure(figsize=(12,7))\n",
    "sns.regplot(x=y_test,y=linear_predictions)"
   ]
  },
  {
   "cell_type": "code",
   "execution_count": 23,
   "metadata": {},
   "outputs": [],
   "source": [
    "from sklearn import metrics"
   ]
  },
  {
   "cell_type": "code",
   "execution_count": 24,
   "metadata": {},
   "outputs": [
    {
     "name": "stdout",
     "output_type": "stream",
     "text": [
      "MAE: 72990.38552907069\n",
      "MSE: 9384420451.541386\n",
      "RMSE: 96873.2184431868\n"
     ]
    }
   ],
   "source": [
    "print('MAE:', metrics.mean_absolute_error(y_test, linear_predictions))\n",
    "print('MSE:', metrics.mean_squared_error(y_test, linear_predictions))\n",
    "print('RMSE:', np.sqrt(metrics.mean_squared_error(y_test, linear_predictions)))"
   ]
  },
  {
   "cell_type": "markdown",
   "metadata": {},
   "source": [
    "### Training a Random Forest Model"
   ]
  },
  {
   "cell_type": "code",
   "execution_count": 25,
   "metadata": {},
   "outputs": [],
   "source": [
    "from sklearn.ensemble import RandomForestClassifier\n",
    "from sklearn.model_selection import GridSearchCV"
   ]
  },
  {
   "cell_type": "code",
   "execution_count": null,
   "metadata": {},
   "outputs": [],
   "source": [
    "test_rforest_model = GridSearchCV(\n",
    "    estimator=RandomForestClassifier(),\n",
    "    param_grid={'min_samples_leaf':[1,2,3,4,5,10,20,50,100]}, \n",
    ")\n",
    "test_rforest_model.fit(X_train,y_train)"
   ]
  },
  {
   "cell_type": "code",
   "execution_count": 39,
   "metadata": {},
   "outputs": [
    {
     "name": "stderr",
     "output_type": "stream",
     "text": [
      "[Parallel(n_jobs=1)]: Using backend SequentialBackend with 1 concurrent workers.\n",
      "[Parallel(n_jobs=1)]: Done   1 out of   1 | elapsed:    0.0s remaining:    0.0s\n",
      "[Parallel(n_jobs=1)]: Done   2 out of   2 | elapsed:    0.0s remaining:    0.0s\n",
      "[Parallel(n_jobs=1)]: Done   3 out of   3 | elapsed:    0.0s remaining:    0.0s\n",
      "[Parallel(n_jobs=1)]: Done   4 out of   4 | elapsed:    0.0s remaining:    0.0s\n",
      "[Parallel(n_jobs=1)]: Done   5 out of   5 | elapsed:    0.0s remaining:    0.0s\n",
      "[Parallel(n_jobs=1)]: Done   6 out of   6 | elapsed:    0.0s remaining:    0.0s\n",
      "[Parallel(n_jobs=1)]: Done   7 out of   7 | elapsed:    0.0s remaining:    0.0s\n",
      "[Parallel(n_jobs=1)]: Done   8 out of   8 | elapsed:    0.0s remaining:    0.0s\n",
      "[Parallel(n_jobs=1)]: Done   9 out of   9 | elapsed:    0.0s remaining:    0.0s\n",
      "[Parallel(n_jobs=1)]: Done 100 out of 100 | elapsed:    0.0s finished\n"
     ]
    }
   ],
   "source": [
    "test_rforest_pred = test_rforest_model.predict(X_test)"
   ]
  },
  {
   "cell_type": "code",
   "execution_count": 40,
   "metadata": {},
   "outputs": [
    {
     "data": {
      "text/plain": [
       "<AxesSubplot:xlabel='Price'>"
      ]
     },
     "execution_count": 40,
     "metadata": {},
     "output_type": "execute_result"
    },
    {
     "data": {
      "image/png": "[encoded data removed]",
      "text/plain": [
       "<Figure size 864x504 with 1 Axes>"
      ]
     },
     "metadata": {
      "needs_background": "light"
     },
     "output_type": "display_data"
    }
   ],
   "source": [
    "plt.figure(figsize=(12,7))\n",
    "sns.regplot(x=y_test,y=test_rforest_pred)"
   ]
  },
  {
   "cell_type": "code",
   "execution_count": 26,
   "metadata": {},
   "outputs": [],
   "source": [
    "rforest_model = RandomForestClassifier()"
   ]
  },
  {
   "cell_type": "code",
   "execution_count": 27,
   "metadata": {},
   "outputs": [
    {
     "data": {
      "text/plain": [
       "RandomForestClassifier()"
      ]
     },
     "execution_count": 27,
     "metadata": {},
     "output_type": "execute_result"
    }
   ],
   "source": [
    "rforest_model.fit(X_train,y_train)"
   ]
  },
  {
   "cell_type": "code",
   "execution_count": 28,
   "metadata": {},
   "outputs": [],
   "source": [
    "rforest_pred = rforest_model.predict(X_test)"
   ]
  },
  {
   "cell_type": "markdown",
   "metadata": {},
   "source": [
    "### Evaluating the model"
   ]
  },
  {
   "cell_type": "code",
   "execution_count": 29,
   "metadata": {},
   "outputs": [
    {
     "data": {
      "text/plain": [
       "<AxesSubplot:xlabel='Price'>"
      ]
     },
     "execution_count": 29,
     "metadata": {},
     "output_type": "execute_result"
    },
    {
     "data": {
      "image/png": "[encoded data removed]",
      "text/plain": [
       "<Figure size 864x504 with 1 Axes>"
      ]
     },
     "metadata": {
      "needs_background": "light"
     },
     "output_type": "display_data"
    }
   ],
   "source": [
    "plt.figure(figsize=(12,7))\n",
    "sns.regplot(x=y_test,y=rforest_pred)"
   ]
  },
  {
   "cell_type": "code",
   "execution_count": 30,
   "metadata": {},
   "outputs": [
    {
     "name": "stdout",
     "output_type": "stream",
     "text": [
      "MAE: 92288.94354838709\n",
      "MSE: 14374042753.879032\n",
      "RMSE: 119891.79602407762\n"
     ]
    }
   ],
   "source": [
    "print('MAE:', metrics.mean_absolute_error(y_test, rforest_pred))\n",
    "print('MSE:', metrics.mean_squared_error(y_test, rforest_pred))\n",
    "print('RMSE:', np.sqrt(metrics.mean_squared_error(y_test, rforest_pred)))"
   ]
  },
  {
   "cell_type": "code",
   "execution_count": 31,
   "metadata": {},
   "outputs": [],
   "source": [
    "model_metric = {'Random Forest':[metrics.mean_absolute_error(y_test, rforest_pred),metrics.mean_squared_error(y_test, rforest_pred),np.sqrt(metrics.mean_squared_error(y_test, rforest_pred))],\n",
    "'Linear Regression':[metrics.mean_absolute_error(y_test, linear_predictions),metrics.mean_squared_error(y_test, linear_predictions),np.sqrt(metrics.mean_squared_error(y_test, linear_predictions))]}"
   ]
  },
  {
   "cell_type": "markdown",
   "metadata": {},
   "source": [
    "## Choosing the model"
   ]
  },
  {
   "cell_type": "code",
   "execution_count": 32,
   "metadata": {},
   "outputs": [
    {
     "data": {
      "text/html": [
       "<div>\n",
       "<style scoped>\n",
       "    .dataframe tbody tr th:only-of-type {\n",
       "        vertical-align: middle;\n",
       "    }\n",
       "\n",
       "    .dataframe tbody tr th {\n",
       "        vertical-align: top;\n",
       "    }\n",
       "\n",
       "    .dataframe thead th {\n",
       "        text-align: right;\n",
       "    }\n",
       "</style>\n",
       "<table border=\"1\" class=\"dataframe\">\n",
       "  <thead>\n",
       "    <tr style=\"text-align: right;\">\n",
       "      <th></th>\n",
       "      <th>Linear Regression</th>\n",
       "      <th>Random Forest</th>\n",
       "    </tr>\n",
       "  </thead>\n",
       "  <tbody>\n",
       "    <tr>\n",
       "      <th>MAE</th>\n",
       "      <td>7.299039e+04</td>\n",
       "      <td>9.228894e+04</td>\n",
       "    </tr>\n",
       "    <tr>\n",
       "      <th>MSE</th>\n",
       "      <td>9.384420e+09</td>\n",
       "      <td>1.437404e+10</td>\n",
       "    </tr>\n",
       "    <tr>\n",
       "      <th>RMSE</th>\n",
       "      <td>9.687322e+04</td>\n",
       "      <td>1.198918e+05</td>\n",
       "    </tr>\n",
       "  </tbody>\n",
       "</table>\n",
       "</div>"
      ],
      "text/plain": [
       "      Linear Regression  Random Forest\n",
       "MAE        7.299039e+04   9.228894e+04\n",
       "MSE        9.384420e+09   1.437404e+10\n",
       "RMSE       9.687322e+04   1.198918e+05"
      ]
     },
     "execution_count": 32,
     "metadata": {},
     "output_type": "execute_result"
    }
   ],
   "source": [
    "pd.DataFrame(model_metric,columns=['Linear Regression','Random Forest'],index=['MAE','MSE','RMSE'])"
   ]
  },
  {
   "cell_type": "markdown",
   "metadata": {},
   "source": [
    "As the linear regression model has the lowest error rate for all metrics, I will be using the model for the prediction function"
   ]
  },
  {
   "cell_type": "markdown",
   "metadata": {},
   "source": [
    "## Prediction for user's property price"
   ]
  },
  {
   "cell_type": "code",
   "execution_count": null,
   "metadata": {},
   "outputs": [],
   "source": [
    "def predict_user():\n",
    "    print('Features Selected ')\n",
    "    while True:\n",
    "        try:\n",
    "            num_bed = int(input('How many bedrooms does the property have? '))\n",
    "        except:\n",
    "            print('Sorry must be an integer')\n",
    "        else:\n",
    "            print('Number of bedrooms: ',num_bed)\n",
    "            break\n",
    "             \n",
    "    tenure = input('What type of tenure type does the property have? press L for leasehold and F for freehold')\n",
    "    if tenure.lower() == 'l':\n",
    "        tenure = 1\n",
    "        ten = 'Leasehold'\n",
    "    else:\n",
    "        tenure = 0\n",
    "        ten = 'Freehold'\n",
    "    print('Tenure Type: ',ten)\n",
    "\n",
    "    while True:\n",
    "        try:\n",
    "            prop = int(input('What is the type of the property? 1 for Flat, 2 for Terraced, 3 for Semi-Detached and 4 for Detached'))\n",
    "        except:\n",
    "            print('Sorry error, please between 1 to 4')\n",
    "        else:\n",
    "            if prop == 1:\n",
    "                num_list = [1,0,0,0]\n",
    "                p = 'Flat'\n",
    "            elif prop == 2:\n",
    "                num_list = [0,1,0,0]\n",
    "                p = 'Terraced'\n",
    "            elif prop == 3:\n",
    "                num_list = [0,0,1,0]\n",
    "                p = 'Semi_detached'\n",
    "            else:\n",
    "                num_list = [0,0,0,1]\n",
    "                p = 'Detached'\n",
    "\n",
    "            print('Property Type: ',p)\n",
    "            break\n",
    "\n",
    "    user_dict = {'Num_Bedrooms':num_bed,'Year_Sold':2021,'Tenure_Type_Leasehold':tenure,'Property_Type_Flat':num_list[0],'Property_Type_Semi-Detached':num_list[2],'Property_Type_Terraced':num_list[1]}\n",
    "    user_data = pd.DataFrame(user_dict, index=[0])\n",
    "    print(('Your property has a predicted cost of £{}'.format(round(linear_model.predict(user_data)[0]))))"
   ]
  },
  {
   "cell_type": "code",
   "execution_count": null,
   "metadata": {},
   "outputs": [
    {
     "name": "stdout",
     "output_type": "stream",
     "text": [
      "Features Selected \n",
      "Sorry must be an integer\n",
      "Number of bedrooms:  2\n",
      "Tenure Type:  Leasehold\n",
      "Property Type:  Terraced\n",
      "Your property has a predicted cost of £445766\n"
     ]
    }
   ],
   "source": [
    "predict_user()"
   ]
  }
 ],
 "metadata": {
  "interpreter": {
   "hash": "1f36ee939a033d3d6cfca871ce038ba922a52cd3660989e49a726b52982cb60c"
  },
  "kernelspec": {
   "display_name": "Python 3.9.7 ('base')",
   "language": "python",
   "name": "python3"
  },
  "language_info": {
   "codemirror_mode": {
    "name": "ipython",
    "version": 3
   },
   "file_extension": ".py",
   "mimetype": "text/x-python",
   "name": "python",
   "nbconvert_exporter": "python",
   "pygments_lexer": "ipython3",
   "version": "3.9.7"
  },
  "orig_nbformat": 4
 },
 "nbformat": 4,
 "nbformat_minor": 2
}
