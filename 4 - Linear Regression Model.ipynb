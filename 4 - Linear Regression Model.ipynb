{
 "cells": [
  {
   "cell_type": "code",
   "execution_count": 1,
   "metadata": {},
   "outputs": [],
   "source": [
    "import pandas as pd\n",
    "import numpy as np\n",
    "import matplotlib.pyplot as plt\n",
    "import seaborn as sns\n",
    "%matplotlib inline"
   ]
  },
  {
   "cell_type": "code",
   "execution_count": 2,
   "metadata": {},
   "outputs": [
    {
     "data": {
      "text/html": [
       "<div>\n",
       "<style scoped>\n",
       "    .dataframe tbody tr th:only-of-type {\n",
       "        vertical-align: middle;\n",
       "    }\n",
       "\n",
       "    .dataframe tbody tr th {\n",
       "        vertical-align: top;\n",
       "    }\n",
       "\n",
       "    .dataframe thead th {\n",
       "        text-align: right;\n",
       "    }\n",
       "</style>\n",
       "<table border=\"1\" class=\"dataframe\">\n",
       "  <thead>\n",
       "    <tr style=\"text-align: right;\">\n",
       "      <th></th>\n",
       "      <th>Price</th>\n",
       "      <th>Date_Sold</th>\n",
       "      <th>Tenure_Type</th>\n",
       "      <th>New_Build</th>\n",
       "      <th>Address</th>\n",
       "      <th>Property_Type</th>\n",
       "      <th>Num_Bedrooms</th>\n",
       "      <th>Floorplan</th>\n",
       "      <th>Latitude</th>\n",
       "      <th>Longitude</th>\n",
       "      <th>Post_Code</th>\n",
       "      <th>Road_Name</th>\n",
       "      <th>Year_Sold</th>\n",
       "    </tr>\n",
       "  </thead>\n",
       "  <tbody>\n",
       "    <tr>\n",
       "      <th>0</th>\n",
       "      <td>720050</td>\n",
       "      <td>17 Dec 2021</td>\n",
       "      <td>Freehold</td>\n",
       "      <td>False</td>\n",
       "      <td>11, Whitney Road, London, Greater London E10 7HG</td>\n",
       "      <td>Terraced</td>\n",
       "      <td>3.0</td>\n",
       "      <td>True</td>\n",
       "      <td>51.57167</td>\n",
       "      <td>-0.01677</td>\n",
       "      <td>E10 7HG</td>\n",
       "      <td>Whitney Road</td>\n",
       "      <td>2021</td>\n",
       "    </tr>\n",
       "    <tr>\n",
       "      <th>1</th>\n",
       "      <td>445000</td>\n",
       "      <td>12 Aug 2015</td>\n",
       "      <td>Freehold</td>\n",
       "      <td>False</td>\n",
       "      <td>11, Whitney Road, London, Greater London E10 7HG</td>\n",
       "      <td>Terraced</td>\n",
       "      <td>3.0</td>\n",
       "      <td>True</td>\n",
       "      <td>51.57167</td>\n",
       "      <td>-0.01677</td>\n",
       "      <td>E10 7HG</td>\n",
       "      <td>Whitney Road</td>\n",
       "      <td>2015</td>\n",
       "    </tr>\n",
       "    <tr>\n",
       "      <th>2</th>\n",
       "      <td>643756</td>\n",
       "      <td>9 Dec 2021</td>\n",
       "      <td>Freehold</td>\n",
       "      <td>False</td>\n",
       "      <td>82, Manor Road, Leyton, London, Greater London...</td>\n",
       "      <td>Terraced</td>\n",
       "      <td>4.0</td>\n",
       "      <td>True</td>\n",
       "      <td>51.57082</td>\n",
       "      <td>-0.01955</td>\n",
       "      <td>E10 7HN</td>\n",
       "      <td>Manor Road</td>\n",
       "      <td>2021</td>\n",
       "    </tr>\n",
       "    <tr>\n",
       "      <th>3</th>\n",
       "      <td>355000</td>\n",
       "      <td>7 Sep 2007</td>\n",
       "      <td>Freehold</td>\n",
       "      <td>False</td>\n",
       "      <td>82, Manor Road, Leyton, London, Greater London...</td>\n",
       "      <td>Terraced</td>\n",
       "      <td>4.0</td>\n",
       "      <td>True</td>\n",
       "      <td>51.57082</td>\n",
       "      <td>-0.01955</td>\n",
       "      <td>E10 7HN</td>\n",
       "      <td>Manor Road</td>\n",
       "      <td>2007</td>\n",
       "    </tr>\n",
       "    <tr>\n",
       "      <th>4</th>\n",
       "      <td>220000</td>\n",
       "      <td>23 Mar 2006</td>\n",
       "      <td>Freehold</td>\n",
       "      <td>False</td>\n",
       "      <td>82, Manor Road, Leyton, London, Greater London...</td>\n",
       "      <td>Terraced</td>\n",
       "      <td>4.0</td>\n",
       "      <td>True</td>\n",
       "      <td>51.57082</td>\n",
       "      <td>-0.01955</td>\n",
       "      <td>E10 7HN</td>\n",
       "      <td>Manor Road</td>\n",
       "      <td>2006</td>\n",
       "    </tr>\n",
       "  </tbody>\n",
       "</table>\n",
       "</div>"
      ],
      "text/plain": [
       "    Price    Date_Sold Tenure_Type  New_Build  \\\n",
       "0  720050  17 Dec 2021    Freehold      False   \n",
       "1  445000  12 Aug 2015    Freehold      False   \n",
       "2  643756   9 Dec 2021    Freehold      False   \n",
       "3  355000   7 Sep 2007    Freehold      False   \n",
       "4  220000  23 Mar 2006    Freehold      False   \n",
       "\n",
       "                                             Address Property_Type  \\\n",
       "0   11, Whitney Road, London, Greater London E10 7HG      Terraced   \n",
       "1   11, Whitney Road, London, Greater London E10 7HG      Terraced   \n",
       "2  82, Manor Road, Leyton, London, Greater London...      Terraced   \n",
       "3  82, Manor Road, Leyton, London, Greater London...      Terraced   \n",
       "4  82, Manor Road, Leyton, London, Greater London...      Terraced   \n",
       "\n",
       "   Num_Bedrooms  Floorplan  Latitude  Longitude Post_Code      Road_Name  \\\n",
       "0           3.0       True  51.57167   -0.01677   E10 7HG   Whitney Road   \n",
       "1           3.0       True  51.57167   -0.01677   E10 7HG   Whitney Road   \n",
       "2           4.0       True  51.57082   -0.01955   E10 7HN     Manor Road   \n",
       "3           4.0       True  51.57082   -0.01955   E10 7HN     Manor Road   \n",
       "4           4.0       True  51.57082   -0.01955   E10 7HN     Manor Road   \n",
       "\n",
       "   Year_Sold  \n",
       "0       2021  \n",
       "1       2015  \n",
       "2       2021  \n",
       "3       2007  \n",
       "4       2006  "
      ]
     },
     "execution_count": 2,
     "metadata": {},
     "output_type": "execute_result"
    }
   ],
   "source": [
    "df = pd.read_csv('Processed Property Data.csv')\n",
    "df.head()"
   ]
  },
  {
   "cell_type": "code",
   "execution_count": 3,
   "metadata": {},
   "outputs": [],
   "source": [
    "df.drop('Address',axis=1,inplace=True)"
   ]
  },
  {
   "cell_type": "code",
   "execution_count": 4,
   "metadata": {},
   "outputs": [],
   "source": [
    "df = df[df['Year_Sold']>2018]"
   ]
  },
  {
   "cell_type": "code",
   "execution_count": 5,
   "metadata": {},
   "outputs": [
    {
     "data": {
      "text/html": [
       "<div>\n",
       "<style scoped>\n",
       "    .dataframe tbody tr th:only-of-type {\n",
       "        vertical-align: middle;\n",
       "    }\n",
       "\n",
       "    .dataframe tbody tr th {\n",
       "        vertical-align: top;\n",
       "    }\n",
       "\n",
       "    .dataframe thead th {\n",
       "        text-align: right;\n",
       "    }\n",
       "</style>\n",
       "<table border=\"1\" class=\"dataframe\">\n",
       "  <thead>\n",
       "    <tr style=\"text-align: right;\">\n",
       "      <th></th>\n",
       "      <th>Price</th>\n",
       "      <th>Tenure_Type</th>\n",
       "      <th>Property_Type</th>\n",
       "      <th>Num_Bedrooms</th>\n",
       "      <th>Latitude</th>\n",
       "      <th>Longitude</th>\n",
       "    </tr>\n",
       "  </thead>\n",
       "  <tbody>\n",
       "    <tr>\n",
       "      <th>0</th>\n",
       "      <td>720050</td>\n",
       "      <td>Freehold</td>\n",
       "      <td>Terraced</td>\n",
       "      <td>3.0</td>\n",
       "      <td>51.57167</td>\n",
       "      <td>-0.01677</td>\n",
       "    </tr>\n",
       "    <tr>\n",
       "      <th>2</th>\n",
       "      <td>643756</td>\n",
       "      <td>Freehold</td>\n",
       "      <td>Terraced</td>\n",
       "      <td>4.0</td>\n",
       "      <td>51.57082</td>\n",
       "      <td>-0.01955</td>\n",
       "    </tr>\n",
       "    <tr>\n",
       "      <th>5</th>\n",
       "      <td>504000</td>\n",
       "      <td>Leasehold</td>\n",
       "      <td>Flat</td>\n",
       "      <td>2.0</td>\n",
       "      <td>51.56547</td>\n",
       "      <td>-0.00145</td>\n",
       "    </tr>\n",
       "    <tr>\n",
       "      <th>7</th>\n",
       "      <td>714000</td>\n",
       "      <td>Freehold</td>\n",
       "      <td>Terraced</td>\n",
       "      <td>3.0</td>\n",
       "      <td>51.56015</td>\n",
       "      <td>-0.01063</td>\n",
       "    </tr>\n",
       "    <tr>\n",
       "      <th>12</th>\n",
       "      <td>540000</td>\n",
       "      <td>Leasehold</td>\n",
       "      <td>Flat</td>\n",
       "      <td>3.0</td>\n",
       "      <td>51.56082</td>\n",
       "      <td>-0.00252</td>\n",
       "    </tr>\n",
       "  </tbody>\n",
       "</table>\n",
       "</div>"
      ],
      "text/plain": [
       "     Price Tenure_Type Property_Type  Num_Bedrooms  Latitude  Longitude\n",
       "0   720050    Freehold      Terraced           3.0  51.57167   -0.01677\n",
       "2   643756    Freehold      Terraced           4.0  51.57082   -0.01955\n",
       "5   504000   Leasehold          Flat           2.0  51.56547   -0.00145\n",
       "7   714000    Freehold      Terraced           3.0  51.56015   -0.01063\n",
       "12  540000   Leasehold          Flat           3.0  51.56082   -0.00252"
      ]
     },
     "execution_count": 5,
     "metadata": {},
     "output_type": "execute_result"
    }
   ],
   "source": [
    "df.drop(['Year_Sold','Date_Sold','Floorplan','Road_Name','Post_Code','New_Build'],axis=1,inplace=True)\n",
    "df.head()"
   ]
  },
  {
   "cell_type": "code",
   "execution_count": 6,
   "metadata": {},
   "outputs": [
    {
     "name": "stdout",
     "output_type": "stream",
     "text": [
      "<class 'pandas.core.frame.DataFrame'>\n",
      "Int64Index: 618 entries, 0 to 1579\n",
      "Data columns (total 6 columns):\n",
      " #   Column         Non-Null Count  Dtype  \n",
      "---  ------         --------------  -----  \n",
      " 0   Price          618 non-null    int64  \n",
      " 1   Tenure_Type    618 non-null    object \n",
      " 2   Property_Type  618 non-null    object \n",
      " 3   Num_Bedrooms   618 non-null    float64\n",
      " 4   Latitude       618 non-null    float64\n",
      " 5   Longitude      618 non-null    float64\n",
      "dtypes: float64(3), int64(1), object(2)\n",
      "memory usage: 33.8+ KB\n"
     ]
    }
   ],
   "source": [
    "df.info()"
   ]
  },
  {
   "cell_type": "code",
   "execution_count": 7,
   "metadata": {},
   "outputs": [
    {
     "data": {
      "image/png": "[encoded data removed]",
      "text/plain": [
       "<Figure size 864x504 with 1 Axes>"
      ]
     },
     "metadata": {
      "needs_background": "light"
     },
     "output_type": "display_data"
    }
   ],
   "source": [
    "plt.figure(figsize=(12,7))\n",
    "axis = sns.heatmap(df.isnull(),cbar=False,yticklabels=False)"
   ]
  },
  {
   "cell_type": "markdown",
   "metadata": {},
   "source": []
  },
  {
   "cell_type": "markdown",
   "metadata": {},
   "source": [
    "## Data Preprocessing\n",
    "\n",
    "- Convert Datatypes (Categoric -> Numeric Data)"
   ]
  },
  {
   "cell_type": "markdown",
   "metadata": {},
   "source": [
    "One hot encoding converting categorical features into encoded form of 0 and 1"
   ]
  },
  {
   "cell_type": "code",
   "execution_count": 8,
   "metadata": {},
   "outputs": [
    {
     "data": {
      "text/html": [
       "<div>\n",
       "<style scoped>\n",
       "    .dataframe tbody tr th:only-of-type {\n",
       "        vertical-align: middle;\n",
       "    }\n",
       "\n",
       "    .dataframe tbody tr th {\n",
       "        vertical-align: top;\n",
       "    }\n",
       "\n",
       "    .dataframe thead th {\n",
       "        text-align: right;\n",
       "    }\n",
       "</style>\n",
       "<table border=\"1\" class=\"dataframe\">\n",
       "  <thead>\n",
       "    <tr style=\"text-align: right;\">\n",
       "      <th></th>\n",
       "      <th>Price</th>\n",
       "      <th>Num_Bedrooms</th>\n",
       "      <th>Latitude</th>\n",
       "      <th>Longitude</th>\n",
       "      <th>Tenure_Type_Leasehold</th>\n",
       "      <th>Property_Type_Flat</th>\n",
       "      <th>Property_Type_Semi-Detached</th>\n",
       "      <th>Property_Type_Terraced</th>\n",
       "    </tr>\n",
       "  </thead>\n",
       "  <tbody>\n",
       "    <tr>\n",
       "      <th>0</th>\n",
       "      <td>720050</td>\n",
       "      <td>3.0</td>\n",
       "      <td>51.57167</td>\n",
       "      <td>-0.01677</td>\n",
       "      <td>0</td>\n",
       "      <td>0</td>\n",
       "      <td>0</td>\n",
       "      <td>1</td>\n",
       "    </tr>\n",
       "    <tr>\n",
       "      <th>2</th>\n",
       "      <td>643756</td>\n",
       "      <td>4.0</td>\n",
       "      <td>51.57082</td>\n",
       "      <td>-0.01955</td>\n",
       "      <td>0</td>\n",
       "      <td>0</td>\n",
       "      <td>0</td>\n",
       "      <td>1</td>\n",
       "    </tr>\n",
       "    <tr>\n",
       "      <th>5</th>\n",
       "      <td>504000</td>\n",
       "      <td>2.0</td>\n",
       "      <td>51.56547</td>\n",
       "      <td>-0.00145</td>\n",
       "      <td>1</td>\n",
       "      <td>1</td>\n",
       "      <td>0</td>\n",
       "      <td>0</td>\n",
       "    </tr>\n",
       "    <tr>\n",
       "      <th>7</th>\n",
       "      <td>714000</td>\n",
       "      <td>3.0</td>\n",
       "      <td>51.56015</td>\n",
       "      <td>-0.01063</td>\n",
       "      <td>0</td>\n",
       "      <td>0</td>\n",
       "      <td>0</td>\n",
       "      <td>1</td>\n",
       "    </tr>\n",
       "    <tr>\n",
       "      <th>12</th>\n",
       "      <td>540000</td>\n",
       "      <td>3.0</td>\n",
       "      <td>51.56082</td>\n",
       "      <td>-0.00252</td>\n",
       "      <td>1</td>\n",
       "      <td>1</td>\n",
       "      <td>0</td>\n",
       "      <td>0</td>\n",
       "    </tr>\n",
       "  </tbody>\n",
       "</table>\n",
       "</div>"
      ],
      "text/plain": [
       "     Price  Num_Bedrooms  Latitude  Longitude  Tenure_Type_Leasehold  \\\n",
       "0   720050           3.0  51.57167   -0.01677                      0   \n",
       "2   643756           4.0  51.57082   -0.01955                      0   \n",
       "5   504000           2.0  51.56547   -0.00145                      1   \n",
       "7   714000           3.0  51.56015   -0.01063                      0   \n",
       "12  540000           3.0  51.56082   -0.00252                      1   \n",
       "\n",
       "    Property_Type_Flat  Property_Type_Semi-Detached  Property_Type_Terraced  \n",
       "0                    0                            0                       1  \n",
       "2                    0                            0                       1  \n",
       "5                    1                            0                       0  \n",
       "7                    0                            0                       1  \n",
       "12                   1                            0                       0  "
      ]
     },
     "execution_count": 8,
     "metadata": {},
     "output_type": "execute_result"
    }
   ],
   "source": [
    "df = pd.get_dummies(df, drop_first = True)\n",
    "df.head()"
   ]
  },
  {
   "cell_type": "markdown",
   "metadata": {},
   "source": [
    "Train Test Split"
   ]
  },
  {
   "cell_type": "code",
   "execution_count": 9,
   "metadata": {},
   "outputs": [],
   "source": [
    "from sklearn.model_selection import train_test_split"
   ]
  },
  {
   "cell_type": "code",
   "execution_count": 10,
   "metadata": {},
   "outputs": [],
   "source": [
    "X = df.drop('Price',axis=1).copy()\n",
    "y = df['Price']\n",
    "\n",
    "X_train, X_test, y_train, y_test = train_test_split(X,y, test_size=0.2, random_state=3)"
   ]
  },
  {
   "cell_type": "markdown",
   "metadata": {},
   "source": [
    "Creating and training the model"
   ]
  },
  {
   "cell_type": "code",
   "execution_count": 11,
   "metadata": {},
   "outputs": [],
   "source": [
    "from sklearn.linear_model import LinearRegression"
   ]
  },
  {
   "cell_type": "code",
   "execution_count": 12,
   "metadata": {},
   "outputs": [],
   "source": [
    "lm = LinearRegression()"
   ]
  },
  {
   "cell_type": "code",
   "execution_count": 13,
   "metadata": {},
   "outputs": [
    {
     "data": {
      "text/plain": [
       "LinearRegression()"
      ]
     },
     "execution_count": 13,
     "metadata": {},
     "output_type": "execute_result"
    }
   ],
   "source": [
    "lm.fit(X_train,y_train)"
   ]
  },
  {
   "cell_type": "markdown",
   "metadata": {},
   "source": [
    "Model Evaluation"
   ]
  },
  {
   "cell_type": "code",
   "execution_count": 14,
   "metadata": {},
   "outputs": [
    {
     "name": "stdout",
     "output_type": "stream",
     "text": [
      "-50763552.02848794\n"
     ]
    }
   ],
   "source": [
    "print(lm.intercept_)"
   ]
  },
  {
   "cell_type": "code",
   "execution_count": 15,
   "metadata": {},
   "outputs": [
    {
     "data": {
      "text/html": [
       "<div>\n",
       "<style scoped>\n",
       "    .dataframe tbody tr th:only-of-type {\n",
       "        vertical-align: middle;\n",
       "    }\n",
       "\n",
       "    .dataframe tbody tr th {\n",
       "        vertical-align: top;\n",
       "    }\n",
       "\n",
       "    .dataframe thead th {\n",
       "        text-align: right;\n",
       "    }\n",
       "</style>\n",
       "<table border=\"1\" class=\"dataframe\">\n",
       "  <thead>\n",
       "    <tr style=\"text-align: right;\">\n",
       "      <th></th>\n",
       "      <th>Coefficient</th>\n",
       "    </tr>\n",
       "  </thead>\n",
       "  <tbody>\n",
       "    <tr>\n",
       "      <th>Num_Bedrooms</th>\n",
       "      <td>7.763437e+04</td>\n",
       "    </tr>\n",
       "    <tr>\n",
       "      <th>Latitude</th>\n",
       "      <td>9.940112e+05</td>\n",
       "    </tr>\n",
       "    <tr>\n",
       "      <th>Longitude</th>\n",
       "      <td>2.938081e+06</td>\n",
       "    </tr>\n",
       "    <tr>\n",
       "      <th>Tenure_Type_Leasehold</th>\n",
       "      <td>-6.733649e+04</td>\n",
       "    </tr>\n",
       "    <tr>\n",
       "      <th>Property_Type_Flat</th>\n",
       "      <td>-1.448016e+05</td>\n",
       "    </tr>\n",
       "    <tr>\n",
       "      <th>Property_Type_Semi-Detached</th>\n",
       "      <td>-1.223261e+05</td>\n",
       "    </tr>\n",
       "    <tr>\n",
       "      <th>Property_Type_Terraced</th>\n",
       "      <td>-1.140047e+05</td>\n",
       "    </tr>\n",
       "  </tbody>\n",
       "</table>\n",
       "</div>"
      ],
      "text/plain": [
       "                              Coefficient\n",
       "Num_Bedrooms                 7.763437e+04\n",
       "Latitude                     9.940112e+05\n",
       "Longitude                    2.938081e+06\n",
       "Tenure_Type_Leasehold       -6.733649e+04\n",
       "Property_Type_Flat          -1.448016e+05\n",
       "Property_Type_Semi-Detached -1.223261e+05\n",
       "Property_Type_Terraced      -1.140047e+05"
      ]
     },
     "execution_count": 15,
     "metadata": {},
     "output_type": "execute_result"
    }
   ],
   "source": [
    "coeff_df = pd.DataFrame(lm.coef_,X.columns,columns=['Coefficient'])\n",
    "coeff_df"
   ]
  },
  {
   "cell_type": "code",
   "execution_count": 16,
   "metadata": {},
   "outputs": [
    {
     "data": {
      "text/plain": [
       "Coefficient    77634.374893\n",
       "Name: Num_Bedrooms, dtype: float64"
      ]
     },
     "execution_count": 16,
     "metadata": {},
     "output_type": "execute_result"
    }
   ],
   "source": [
    "coeff_df.loc['Num_Bedrooms']"
   ]
  },
  {
   "cell_type": "markdown",
   "metadata": {},
   "source": [
    "Predictions from the Model"
   ]
  },
  {
   "cell_type": "code",
   "execution_count": 17,
   "metadata": {},
   "outputs": [],
   "source": [
    "predictions = lm.predict(X_test)"
   ]
  },
  {
   "cell_type": "code",
   "execution_count": 18,
   "metadata": {},
   "outputs": [
    {
     "data": {
      "text/plain": [
       "<AxesSubplot:xlabel='Price'>"
      ]
     },
     "execution_count": 18,
     "metadata": {},
     "output_type": "execute_result"
    },
    {
     "data": {
      "image/png": "[encoded data removed]",
      "text/plain": [
       "<Figure size 864x504 with 1 Axes>"
      ]
     },
     "metadata": {
      "needs_background": "light"
     },
     "output_type": "display_data"
    }
   ],
   "source": [
    "plt.figure(figsize=(12,7))\n",
    "sns.regplot(x=y_test,y=predictions)"
   ]
  },
  {
   "cell_type": "markdown",
   "metadata": {},
   "source": [
    "Regression Evaluation Metrics"
   ]
  },
  {
   "cell_type": "code",
   "execution_count": 19,
   "metadata": {},
   "outputs": [],
   "source": [
    "from sklearn import metrics"
   ]
  },
  {
   "cell_type": "code",
   "execution_count": 20,
   "metadata": {},
   "outputs": [
    {
     "name": "stdout",
     "output_type": "stream",
     "text": [
      "MAE: 61424.26164558884\n",
      "MSE: 6690645568.055088\n",
      "RMSE: 81796.36647220394\n"
     ]
    }
   ],
   "source": [
    "print('MAE:', metrics.mean_absolute_error(y_test, predictions))\n",
    "print('MSE:', metrics.mean_squared_error(y_test, predictions))\n",
    "print('RMSE:', np.sqrt(metrics.mean_squared_error(y_test, predictions)))"
   ]
  },
  {
   "cell_type": "code",
   "execution_count": 21,
   "metadata": {},
   "outputs": [
    {
     "name": "stdout",
     "output_type": "stream",
     "text": [
      "                            OLS Regression Results                            \n",
      "==============================================================================\n",
      "Dep. Variable:                  Price   R-squared:                       0.652\n",
      "Model:                            OLS   Adj. R-squared:                  0.647\n",
      "Method:                 Least Squares   F-statistic:                     130.1\n",
      "Date:                Sat, 05 Mar 2022   Prob (F-statistic):          3.61e-107\n",
      "Time:                        20:15:52   Log-Likelihood:                -6324.7\n",
      "No. Observations:                 494   AIC:                         1.267e+04\n",
      "Df Residuals:                     486   BIC:                         1.270e+04\n",
      "Df Model:                           7                                         \n",
      "Covariance Type:            nonrobust                                         \n",
      "===============================================================================================\n",
      "                                  coef    std err          t      P>|t|      [0.025      0.975]\n",
      "-----------------------------------------------------------------------------------------------\n",
      "const                       -5.076e+07    4.4e+07     -1.152      0.250   -1.37e+08    3.58e+07\n",
      "Num_Bedrooms                 7.763e+04   5864.615     13.238      0.000    6.61e+04    8.92e+04\n",
      "Latitude                      9.94e+05   8.54e+05      1.164      0.245   -6.84e+05    2.67e+06\n",
      "Longitude                    2.938e+06   4.83e+05      6.078      0.000    1.99e+06    3.89e+06\n",
      "Tenure_Type_Leasehold       -6.734e+04   2.44e+04     -2.762      0.006   -1.15e+05   -1.94e+04\n",
      "Property_Type_Flat          -1.448e+05   6.71e+04     -2.159      0.031   -2.77e+05    -1.3e+04\n",
      "Property_Type_Semi-Detached -1.223e+05   6.61e+04     -1.851      0.065   -2.52e+05    7549.502\n",
      "Property_Type_Terraced       -1.14e+05   6.31e+04     -1.806      0.072   -2.38e+05       1e+04\n",
      "==============================================================================\n",
      "Omnibus:                       23.745   Durbin-Watson:                   2.122\n",
      "Prob(Omnibus):                  0.000   Jarque-Bera (JB):               68.241\n",
      "Skew:                          -0.023   Prob(JB):                     1.52e-15\n",
      "Kurtosis:                       4.820   Cond. No.                     5.71e+05\n",
      "==============================================================================\n",
      "\n",
      "Notes:\n",
      "[1] Standard Errors assume that the covariance matrix of the errors is correctly specified.\n",
      "[2] The condition number is large, 5.71e+05. This might indicate that there are\n",
      "strong multicollinearity or other numerical problems.\n"
     ]
    }
   ],
   "source": [
    "import statsmodels.api as sm\n",
    "X_train_Sm= sm.add_constant(X_train)\n",
    "X_train_Sm= sm.add_constant(X_train)\n",
    "ls=sm.OLS(y_train,X_train_Sm).fit()\n",
    "print(ls.summary())"
   ]
  },
  {
   "cell_type": "markdown",
   "metadata": {},
   "source": [
    "Prediction for user's property"
   ]
  },
  {
   "cell_type": "code",
   "execution_count": 32,
   "metadata": {},
   "outputs": [],
   "source": [
    "def input_user():\n",
    "    num_bed = int(input('How many bedrooms does the property have? '))\n",
    "    \n",
    "    tenure = input('What type of tenure type does the property have? press L for leasehold and F for freehold')\n",
    "    if tenure.lower() == 'l':\n",
    "        tenure = 1\n",
    "    else:\n",
    "        tenure = 0\n",
    "\n",
    "    prop = int(input('What is the type of the property? 1 for Flat, 2 for Terraced, 3 for Semi-Detached and 4 for Detached'))\n",
    "    if prop == 1:\n",
    "        num_list = [1,0,0,0]\n",
    "    elif prop == 2:\n",
    "        num_list = [0,1,0,0]\n",
    "    elif prop == 3:\n",
    "        num_list = [0,0,1,0]\n",
    "    else:\n",
    "        num_list = [0,0,0,1]\n",
    "\n",
    "    return num_bed, tenure, num_list\n"
   ]
  },
  {
   "cell_type": "code",
   "execution_count": 35,
   "metadata": {},
   "outputs": [
    {
     "name": "stdout",
     "output_type": "stream",
     "text": [
      "Your property costs £37014\n"
     ]
    }
   ],
   "source": [
    "x,y,z = input_user()\n",
    "\n",
    "user_dict = {'Num_Bedrooms':x,'Latitude':51,'Longitude':-0.01677,'Tenure_Type_Leasehold':y,'Property_Type_Flat':z[0],'Property_Type_Semi-Detached':z[2],'Property_Type_Terraced':z[1]}\n",
    "\n",
    "user_data = pd.DataFrame(user_dict, index=[0])\n",
    "\n",
    "print(('Your property has a predicted cost of £{}'.format(round(lm.predict(user_data)[0]))))"
   ]
  },
  {
   "cell_type": "code",
   "execution_count": null,
   "metadata": {},
   "outputs": [],
   "source": []
  }
 ],
 "metadata": {
  "interpreter": {
   "hash": "1f36ee939a033d3d6cfca871ce038ba922a52cd3660989e49a726b52982cb60c"
  },
  "kernelspec": {
   "display_name": "Python 3.9.7 ('base')",
   "language": "python",
   "name": "python3"
  },
  "language_info": {
   "codemirror_mode": {
    "name": "ipython",
    "version": 3
   },
   "file_extension": ".py",
   "mimetype": "text/x-python",
   "name": "python",
   "nbconvert_exporter": "python",
   "pygments_lexer": "ipython3",
   "version": "3.9.7"
  },
  "orig_nbformat": 4
 },
 "nbformat": 4,
 "nbformat_minor": 2
}
