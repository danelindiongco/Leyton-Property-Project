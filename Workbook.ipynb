{
 "cells": [
  {
   "cell_type": "code",
   "execution_count": 2,
   "metadata": {},
   "outputs": [],
   "source": [
    "import numpy as np\n",
    "import pandas as pd"
   ]
  },
  {
   "cell_type": "code",
   "execution_count": 3,
   "metadata": {},
   "outputs": [],
   "source": [
    "def flatten(d,sep=\"_\"):\n",
    "    import collections\n",
    "\n",
    "    obj = collections.OrderedDict()\n",
    "\n",
    "    def recurse(t,parent_key=\"\"):\n",
    "        \n",
    "        if isinstance(t,list):\n",
    "            for i in range(len(t)):\n",
    "                recurse(t[i],parent_key + sep + str(i) if parent_key else str(i))\n",
    "        elif isinstance(t,dict):\n",
    "            for k,v in t.items():\n",
    "                recurse(v,parent_key + sep + k if parent_key else k)\n",
    "        else:\n",
    "            obj[parent_key] = t\n",
    "\n",
    "    recurse(d)\n",
    "\n",
    "    return obj"
   ]
  },
  {
   "cell_type": "code",
   "execution_count": 4,
   "metadata": {},
   "outputs": [],
   "source": [
    "data = {\n",
    "    \"id\": 1,\n",
    "    \"first_name\": \"Jonathan\",\n",
    "    \"last_name\": \"Hsu\",\n",
    "    \"employment_history\": [\n",
    "        {\n",
    "            \"company\": \"Black Belt Academy\",\n",
    "            \"title\": \"Instructor\",\n",
    "            \"something\": {\n",
    "                \"hello\": [1,2,3,{\n",
    "                    \"something\":\"goes\"\n",
    "                }]\n",
    "            }\n",
    "        },\n",
    "        {\n",
    "            \"company\": \"Zerion Software\",\n",
    "            \"title\": \"Solutions Engineer\"\n",
    "        }\n",
    "    ],\n",
    "    \"education\": {\n",
    "        \"bachelors\": \"Information Technology\",\n",
    "        \"masters\": \"Applied Information Technology\",\n",
    "        \"phd\": \"Higher Education\"\n",
    "    }\n",
    "}"
   ]
  },
  {
   "cell_type": "code",
   "execution_count": 5,
   "metadata": {},
   "outputs": [
    {
     "data": {
      "text/plain": [
       "{'id': 1,\n",
       " 'first_name': 'Jonathan',\n",
       " 'last_name': 'Hsu',\n",
       " 'employment_history': [{'company': 'Black Belt Academy',\n",
       "   'title': 'Instructor',\n",
       "   'something': {'hello': [1, 2, 3, {'something': 'goes'}]}},\n",
       "  {'company': 'Zerion Software', 'title': 'Solutions Engineer'}],\n",
       " 'education': {'bachelors': 'Information Technology',\n",
       "  'masters': 'Applied Information Technology',\n",
       "  'phd': 'Higher Education'}}"
      ]
     },
     "execution_count": 5,
     "metadata": {},
     "output_type": "execute_result"
    }
   ],
   "source": [
    "data"
   ]
  },
  {
   "cell_type": "code",
   "execution_count": 6,
   "metadata": {},
   "outputs": [
    {
     "data": {
      "text/plain": [
       "OrderedDict([('id', 1),\n",
       "             ('first_name', 'Jonathan'),\n",
       "             ('last_name', 'Hsu'),\n",
       "             ('employment_history_0_company', 'Black Belt Academy'),\n",
       "             ('employment_history_0_title', 'Instructor'),\n",
       "             ('employment_history_0_something_hello_0', 1),\n",
       "             ('employment_history_0_something_hello_1', 2),\n",
       "             ('employment_history_0_something_hello_2', 3),\n",
       "             ('employment_history_0_something_hello_3_something', 'goes'),\n",
       "             ('employment_history_1_company', 'Zerion Software'),\n",
       "             ('employment_history_1_title', 'Solutions Engineer'),\n",
       "             ('education_bachelors', 'Information Technology'),\n",
       "             ('education_masters', 'Applied Information Technology'),\n",
       "             ('education_phd', 'Higher Education')])"
      ]
     },
     "execution_count": 6,
     "metadata": {},
     "output_type": "execute_result"
    }
   ],
   "source": [
    "flatten(data)"
   ]
  },
  {
   "cell_type": "code",
   "execution_count": null,
   "metadata": {},
   "outputs": [],
   "source": []
  }
 ],
 "metadata": {
  "interpreter": {
   "hash": "1f36ee939a033d3d6cfca871ce038ba922a52cd3660989e49a726b52982cb60c"
  },
  "kernelspec": {
   "display_name": "Python 3.9.7 ('base')",
   "language": "python",
   "name": "python3"
  },
  "language_info": {
   "codemirror_mode": {
    "name": "ipython",
    "version": 3
   },
   "file_extension": ".py",
   "mimetype": "text/x-python",
   "name": "python",
   "nbconvert_exporter": "python",
   "pygments_lexer": "ipython3",
   "version": "3.9.7"
  },
  "orig_nbformat": 4
 },
 "nbformat": 4,
 "nbformat_minor": 2
}
